{
  "nbformat": 4,
  "nbformat_minor": 0,
  "metadata": {
    "colab": {
      "name": "Roberts_msds_422_week 6 v3.ipynb",
      "provenance": [],
      "collapsed_sections": [],
      "authorship_tag": "ABX9TyNeG2m8Le259/m/DofOMdYt",
      "include_colab_link": true
    },
    "kernelspec": {
      "name": "python3",
      "display_name": "Python 3"
    }
  },
  "cells": [
    {
      "cell_type": "markdown",
      "metadata": {
        "id": "view-in-github",
        "colab_type": "text"
      },
      "source": [
        "<a href=\"https://colab.research.google.com/github/petebusey/20019-20_Pistons_Salaries_csv/blob/master/Roberts_msds_422_week_6_v3.ipynb\" target=\"_parent\"><img src=\"https://colab.research.google.com/assets/colab-badge.svg\" alt=\"Open In Colab\"/></a>"
      ]
    },
    {
      "cell_type": "code",
      "metadata": {
        "id": "IE8WSAZg8BHr"
      },
      "source": [
        "import pandas as pd\n"
      ],
      "execution_count": 30,
      "outputs": []
    },
    {
      "cell_type": "code",
      "metadata": {
        "colab": {
          "resources": {
            "http://localhost:8080/nbextensions/google.colab/files.js": {
              "data": "Ly8gQ29weXJpZ2h0IDIwMTcgR29vZ2xlIExMQwovLwovLyBMaWNlbnNlZCB1bmRlciB0aGUgQXBhY2hlIExpY2Vuc2UsIFZlcnNpb24gMi4wICh0aGUgIkxpY2Vuc2UiKTsKLy8geW91IG1heSBub3QgdXNlIHRoaXMgZmlsZSBleGNlcHQgaW4gY29tcGxpYW5jZSB3aXRoIHRoZSBMaWNlbnNlLgovLyBZb3UgbWF5IG9idGFpbiBhIGNvcHkgb2YgdGhlIExpY2Vuc2UgYXQKLy8KLy8gICAgICBodHRwOi8vd3d3LmFwYWNoZS5vcmcvbGljZW5zZXMvTElDRU5TRS0yLjAKLy8KLy8gVW5sZXNzIHJlcXVpcmVkIGJ5IGFwcGxpY2FibGUgbGF3IG9yIGFncmVlZCB0byBpbiB3cml0aW5nLCBzb2Z0d2FyZQovLyBkaXN0cmlidXRlZCB1bmRlciB0aGUgTGljZW5zZSBpcyBkaXN0cmlidXRlZCBvbiBhbiAiQVMgSVMiIEJBU0lTLAovLyBXSVRIT1VUIFdBUlJBTlRJRVMgT1IgQ09ORElUSU9OUyBPRiBBTlkgS0lORCwgZWl0aGVyIGV4cHJlc3Mgb3IgaW1wbGllZC4KLy8gU2VlIHRoZSBMaWNlbnNlIGZvciB0aGUgc3BlY2lmaWMgbGFuZ3VhZ2UgZ292ZXJuaW5nIHBlcm1pc3Npb25zIGFuZAovLyBsaW1pdGF0aW9ucyB1bmRlciB0aGUgTGljZW5zZS4KCi8qKgogKiBAZmlsZW92ZXJ2aWV3IEhlbHBlcnMgZm9yIGdvb2dsZS5jb2xhYiBQeXRob24gbW9kdWxlLgogKi8KKGZ1bmN0aW9uKHNjb3BlKSB7CmZ1bmN0aW9uIHNwYW4odGV4dCwgc3R5bGVBdHRyaWJ1dGVzID0ge30pIHsKICBjb25zdCBlbGVtZW50ID0gZG9jdW1lbnQuY3JlYXRlRWxlbWVudCgnc3BhbicpOwogIGVsZW1lbnQudGV4dENvbnRlbnQgPSB0ZXh0OwogIGZvciAoY29uc3Qga2V5IG9mIE9iamVjdC5rZXlzKHN0eWxlQXR0cmlidXRlcykpIHsKICAgIGVsZW1lbnQuc3R5bGVba2V5XSA9IHN0eWxlQXR0cmlidXRlc1trZXldOwogIH0KICByZXR1cm4gZWxlbWVudDsKfQoKLy8gTWF4IG51bWJlciBvZiBieXRlcyB3aGljaCB3aWxsIGJlIHVwbG9hZGVkIGF0IGEgdGltZS4KY29uc3QgTUFYX1BBWUxPQURfU0laRSA9IDEwMCAqIDEwMjQ7CgpmdW5jdGlvbiBfdXBsb2FkRmlsZXMoaW5wdXRJZCwgb3V0cHV0SWQpIHsKICBjb25zdCBzdGVwcyA9IHVwbG9hZEZpbGVzU3RlcChpbnB1dElkLCBvdXRwdXRJZCk7CiAgY29uc3Qgb3V0cHV0RWxlbWVudCA9IGRvY3VtZW50LmdldEVsZW1lbnRCeUlkKG91dHB1dElkKTsKICAvLyBDYWNoZSBzdGVwcyBvbiB0aGUgb3V0cHV0RWxlbWVudCB0byBtYWtlIGl0IGF2YWlsYWJsZSBmb3IgdGhlIG5leHQgY2FsbAogIC8vIHRvIHVwbG9hZEZpbGVzQ29udGludWUgZnJvbSBQeXRob24uCiAgb3V0cHV0RWxlbWVudC5zdGVwcyA9IHN0ZXBzOwoKICByZXR1cm4gX3VwbG9hZEZpbGVzQ29udGludWUob3V0cHV0SWQpOwp9CgovLyBUaGlzIGlzIHJvdWdobHkgYW4gYXN5bmMgZ2VuZXJhdG9yIChub3Qgc3VwcG9ydGVkIGluIHRoZSBicm93c2VyIHlldCksCi8vIHdoZXJlIHRoZXJlIGFyZSBtdWx0aXBsZSBhc3luY2hyb25vdXMgc3RlcHMgYW5kIHRoZSBQeXRob24gc2lkZSBpcyBnb2luZwovLyB0byBwb2xsIGZvciBjb21wbGV0aW9uIG9mIGVhY2ggc3RlcC4KLy8gVGhpcyB1c2VzIGEgUHJvbWlzZSB0byBibG9jayB0aGUgcHl0aG9uIHNpZGUgb24gY29tcGxldGlvbiBvZiBlYWNoIHN0ZXAsCi8vIHRoZW4gcGFzc2VzIHRoZSByZXN1bHQgb2YgdGhlIHByZXZpb3VzIHN0ZXAgYXMgdGhlIGlucHV0IHRvIHRoZSBuZXh0IHN0ZXAuCmZ1bmN0aW9uIF91cGxvYWRGaWxlc0NvbnRpbnVlKG91dHB1dElkKSB7CiAgY29uc3Qgb3V0cHV0RWxlbWVudCA9IGRvY3VtZW50LmdldEVsZW1lbnRCeUlkKG91dHB1dElkKTsKICBjb25zdCBzdGVwcyA9IG91dHB1dEVsZW1lbnQuc3RlcHM7CgogIGNvbnN0IG5leHQgPSBzdGVwcy5uZXh0KG91dHB1dEVsZW1lbnQubGFzdFByb21pc2VWYWx1ZSk7CiAgcmV0dXJuIFByb21pc2UucmVzb2x2ZShuZXh0LnZhbHVlLnByb21pc2UpLnRoZW4oKHZhbHVlKSA9PiB7CiAgICAvLyBDYWNoZSB0aGUgbGFzdCBwcm9taXNlIHZhbHVlIHRvIG1ha2UgaXQgYXZhaWxhYmxlIHRvIHRoZSBuZXh0CiAgICAvLyBzdGVwIG9mIHRoZSBnZW5lcmF0b3IuCiAgICBvdXRwdXRFbGVtZW50Lmxhc3RQcm9taXNlVmFsdWUgPSB2YWx1ZTsKICAgIHJldHVybiBuZXh0LnZhbHVlLnJlc3BvbnNlOwogIH0pOwp9CgovKioKICogR2VuZXJhdG9yIGZ1bmN0aW9uIHdoaWNoIGlzIGNhbGxlZCBiZXR3ZWVuIGVhY2ggYXN5bmMgc3RlcCBvZiB0aGUgdXBsb2FkCiAqIHByb2Nlc3MuCiAqIEBwYXJhbSB7c3RyaW5nfSBpbnB1dElkIEVsZW1lbnQgSUQgb2YgdGhlIGlucHV0IGZpbGUgcGlja2VyIGVsZW1lbnQuCiAqIEBwYXJhbSB7c3RyaW5nfSBvdXRwdXRJZCBFbGVtZW50IElEIG9mIHRoZSBvdXRwdXQgZGlzcGxheS4KICogQHJldHVybiB7IUl0ZXJhYmxlPCFPYmplY3Q+fSBJdGVyYWJsZSBvZiBuZXh0IHN0ZXBzLgogKi8KZnVuY3Rpb24qIHVwbG9hZEZpbGVzU3RlcChpbnB1dElkLCBvdXRwdXRJZCkgewogIGNvbnN0IGlucHV0RWxlbWVudCA9IGRvY3VtZW50LmdldEVsZW1lbnRCeUlkKGlucHV0SWQpOwogIGlucHV0RWxlbWVudC5kaXNhYmxlZCA9IGZhbHNlOwoKICBjb25zdCBvdXRwdXRFbGVtZW50ID0gZG9jdW1lbnQuZ2V0RWxlbWVudEJ5SWQob3V0cHV0SWQpOwogIG91dHB1dEVsZW1lbnQuaW5uZXJIVE1MID0gJyc7CgogIGNvbnN0IHBpY2tlZFByb21pc2UgPSBuZXcgUHJvbWlzZSgocmVzb2x2ZSkgPT4gewogICAgaW5wdXRFbGVtZW50LmFkZEV2ZW50TGlzdGVuZXIoJ2NoYW5nZScsIChlKSA9PiB7CiAgICAgIHJlc29sdmUoZS50YXJnZXQuZmlsZXMpOwogICAgfSk7CiAgfSk7CgogIGNvbnN0IGNhbmNlbCA9IGRvY3VtZW50LmNyZWF0ZUVsZW1lbnQoJ2J1dHRvbicpOwogIGlucHV0RWxlbWVudC5wYXJlbnRFbGVtZW50LmFwcGVuZENoaWxkKGNhbmNlbCk7CiAgY2FuY2VsLnRleHRDb250ZW50ID0gJ0NhbmNlbCB1cGxvYWQnOwogIGNvbnN0IGNhbmNlbFByb21pc2UgPSBuZXcgUHJvbWlzZSgocmVzb2x2ZSkgPT4gewogICAgY2FuY2VsLm9uY2xpY2sgPSAoKSA9PiB7CiAgICAgIHJlc29sdmUobnVsbCk7CiAgICB9OwogIH0pOwoKICAvLyBXYWl0IGZvciB0aGUgdXNlciB0byBwaWNrIHRoZSBmaWxlcy4KICBjb25zdCBmaWxlcyA9IHlpZWxkIHsKICAgIHByb21pc2U6IFByb21pc2UucmFjZShbcGlja2VkUHJvbWlzZSwgY2FuY2VsUHJvbWlzZV0pLAogICAgcmVzcG9uc2U6IHsKICAgICAgYWN0aW9uOiAnc3RhcnRpbmcnLAogICAgfQogIH07CgogIGNhbmNlbC5yZW1vdmUoKTsKCiAgLy8gRGlzYWJsZSB0aGUgaW5wdXQgZWxlbWVudCBzaW5jZSBmdXJ0aGVyIHBpY2tzIGFyZSBub3QgYWxsb3dlZC4KICBpbnB1dEVsZW1lbnQuZGlzYWJsZWQgPSB0cnVlOwoKICBpZiAoIWZpbGVzKSB7CiAgICByZXR1cm4gewogICAgICByZXNwb25zZTogewogICAgICAgIGFjdGlvbjogJ2NvbXBsZXRlJywKICAgICAgfQogICAgfTsKICB9CgogIGZvciAoY29uc3QgZmlsZSBvZiBmaWxlcykgewogICAgY29uc3QgbGkgPSBkb2N1bWVudC5jcmVhdGVFbGVtZW50KCdsaScpOwogICAgbGkuYXBwZW5kKHNwYW4oZmlsZS5uYW1lLCB7Zm9udFdlaWdodDogJ2JvbGQnfSkpOwogICAgbGkuYXBwZW5kKHNwYW4oCiAgICAgICAgYCgke2ZpbGUudHlwZSB8fCAnbi9hJ30pIC0gJHtmaWxlLnNpemV9IGJ5dGVzLCBgICsKICAgICAgICBgbGFzdCBtb2RpZmllZDogJHsKICAgICAgICAgICAgZmlsZS5sYXN0TW9kaWZpZWREYXRlID8gZmlsZS5sYXN0TW9kaWZpZWREYXRlLnRvTG9jYWxlRGF0ZVN0cmluZygpIDoKICAgICAgICAgICAgICAgICAgICAgICAgICAgICAgICAgICAgJ24vYSd9IC0gYCkpOwogICAgY29uc3QgcGVyY2VudCA9IHNwYW4oJzAlIGRvbmUnKTsKICAgIGxpLmFwcGVuZENoaWxkKHBlcmNlbnQpOwoKICAgIG91dHB1dEVsZW1lbnQuYXBwZW5kQ2hpbGQobGkpOwoKICAgIGNvbnN0IGZpbGVEYXRhUHJvbWlzZSA9IG5ldyBQcm9taXNlKChyZXNvbHZlKSA9PiB7CiAgICAgIGNvbnN0IHJlYWRlciA9IG5ldyBGaWxlUmVhZGVyKCk7CiAgICAgIHJlYWRlci5vbmxvYWQgPSAoZSkgPT4gewogICAgICAgIHJlc29sdmUoZS50YXJnZXQucmVzdWx0KTsKICAgICAgfTsKICAgICAgcmVhZGVyLnJlYWRBc0FycmF5QnVmZmVyKGZpbGUpOwogICAgfSk7CiAgICAvLyBXYWl0IGZvciB0aGUgZGF0YSB0byBiZSByZWFkeS4KICAgIGxldCBmaWxlRGF0YSA9IHlpZWxkIHsKICAgICAgcHJvbWlzZTogZmlsZURhdGFQcm9taXNlLAogICAgICByZXNwb25zZTogewogICAgICAgIGFjdGlvbjogJ2NvbnRpbnVlJywKICAgICAgfQogICAgfTsKCiAgICAvLyBVc2UgYSBjaHVua2VkIHNlbmRpbmcgdG8gYXZvaWQgbWVzc2FnZSBzaXplIGxpbWl0cy4gU2VlIGIvNjIxMTU2NjAuCiAgICBsZXQgcG9zaXRpb24gPSAwOwogICAgd2hpbGUgKHBvc2l0aW9uIDwgZmlsZURhdGEuYnl0ZUxlbmd0aCkgewogICAgICBjb25zdCBsZW5ndGggPSBNYXRoLm1pbihmaWxlRGF0YS5ieXRlTGVuZ3RoIC0gcG9zaXRpb24sIE1BWF9QQVlMT0FEX1NJWkUpOwogICAgICBjb25zdCBjaHVuayA9IG5ldyBVaW50OEFycmF5KGZpbGVEYXRhLCBwb3NpdGlvbiwgbGVuZ3RoKTsKICAgICAgcG9zaXRpb24gKz0gbGVuZ3RoOwoKICAgICAgY29uc3QgYmFzZTY0ID0gYnRvYShTdHJpbmcuZnJvbUNoYXJDb2RlLmFwcGx5KG51bGwsIGNodW5rKSk7CiAgICAgIHlpZWxkIHsKICAgICAgICByZXNwb25zZTogewogICAgICAgICAgYWN0aW9uOiAnYXBwZW5kJywKICAgICAgICAgIGZpbGU6IGZpbGUubmFtZSwKICAgICAgICAgIGRhdGE6IGJhc2U2NCwKICAgICAgICB9LAogICAgICB9OwogICAgICBwZXJjZW50LnRleHRDb250ZW50ID0KICAgICAgICAgIGAke01hdGgucm91bmQoKHBvc2l0aW9uIC8gZmlsZURhdGEuYnl0ZUxlbmd0aCkgKiAxMDApfSUgZG9uZWA7CiAgICB9CiAgfQoKICAvLyBBbGwgZG9uZS4KICB5aWVsZCB7CiAgICByZXNwb25zZTogewogICAgICBhY3Rpb246ICdjb21wbGV0ZScsCiAgICB9CiAgfTsKfQoKc2NvcGUuZ29vZ2xlID0gc2NvcGUuZ29vZ2xlIHx8IHt9OwpzY29wZS5nb29nbGUuY29sYWIgPSBzY29wZS5nb29nbGUuY29sYWIgfHwge307CnNjb3BlLmdvb2dsZS5jb2xhYi5fZmlsZXMgPSB7CiAgX3VwbG9hZEZpbGVzLAogIF91cGxvYWRGaWxlc0NvbnRpbnVlLAp9Owp9KShzZWxmKTsK",
              "ok": true,
              "headers": [
                [
                  "content-type",
                  "application/javascript"
                ]
              ],
              "status": 200,
              "status_text": ""
            }
          },
          "base_uri": "https://localhost:8080/",
          "height": 72
        },
        "id": "48kauBzh8JP-",
        "outputId": "1db73122-64c1-4a80-cdb3-6d7507a099a1"
      },
      "source": [
        "from google.colab import files\n",
        "data_to_load = files.upload()"
      ],
      "execution_count": 31,
      "outputs": [
        {
          "output_type": "display_data",
          "data": {
            "text/html": [
              "\n",
              "     <input type=\"file\" id=\"files-6ea0a643-6dec-4941-9fa4-7454a9bc0ce1\" name=\"files[]\" multiple disabled\n",
              "        style=\"border:none\" />\n",
              "     <output id=\"result-6ea0a643-6dec-4941-9fa4-7454a9bc0ce1\">\n",
              "      Upload widget is only available when the cell has been executed in the\n",
              "      current browser session. Please rerun this cell to enable.\n",
              "      </output>\n",
              "      <script src=\"/nbextensions/google.colab/files.js\"></script> "
            ],
            "text/plain": [
              "<IPython.core.display.HTML object>"
            ]
          },
          "metadata": {
            "tags": []
          }
        },
        {
          "output_type": "stream",
          "text": [
            "Saving train.csv to train (1).csv\n"
          ],
          "name": "stdout"
        }
      ]
    },
    {
      "cell_type": "code",
      "metadata": {
        "id": "aFGc2pS88JsG"
      },
      "source": [
        "import io\n",
        "df= pd.read_csv(io.BytesIO(data_to_load['train.csv']))"
      ],
      "execution_count": 32,
      "outputs": []
    },
    {
      "cell_type": "code",
      "metadata": {
        "colab": {
          "base_uri": "https://localhost:8080/"
        },
        "id": "EOGmEtit8JvZ",
        "outputId": "160c7c19-f9b0-4b35-839f-e6f384bab607"
      },
      "source": [
        "df.info()"
      ],
      "execution_count": 33,
      "outputs": [
        {
          "output_type": "stream",
          "text": [
            "<class 'pandas.core.frame.DataFrame'>\n",
            "RangeIndex: 42000 entries, 0 to 41999\n",
            "Columns: 785 entries, label to pixel783\n",
            "dtypes: int64(785)\n",
            "memory usage: 251.5 MB\n"
          ],
          "name": "stdout"
        }
      ]
    },
    {
      "cell_type": "code",
      "metadata": {
        "colab": {
          "resources": {
            "http://localhost:8080/nbextensions/google.colab/files.js": {
              "data": "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",
              "ok": true,
              "headers": [
                [
                  "content-type",
                  "application/javascript"
                ]
              ],
              "status": 200,
              "status_text": ""
            }
          },
          "base_uri": "https://localhost:8080/",
          "height": 72
        },
        "id": "RsT6k6248Jxv",
        "outputId": "89f073fd-8dc8-4337-edb6-1215522e2eec"
      },
      "source": [
        "from google.colab import files\n",
        "data_to_load = files.upload()"
      ],
      "execution_count": 34,
      "outputs": [
        {
          "output_type": "display_data",
          "data": {
            "text/html": [
              "\n",
              "     <input type=\"file\" id=\"files-55149bc1-4d5b-462a-b8bb-543bf4881aa9\" name=\"files[]\" multiple disabled\n",
              "        style=\"border:none\" />\n",
              "     <output id=\"result-55149bc1-4d5b-462a-b8bb-543bf4881aa9\">\n",
              "      Upload widget is only available when the cell has been executed in the\n",
              "      current browser session. Please rerun this cell to enable.\n",
              "      </output>\n",
              "      <script src=\"/nbextensions/google.colab/files.js\"></script> "
            ],
            "text/plain": [
              "<IPython.core.display.HTML object>"
            ]
          },
          "metadata": {
            "tags": []
          }
        },
        {
          "output_type": "stream",
          "text": [
            "Saving test.csv to test (1).csv\n"
          ],
          "name": "stdout"
        }
      ]
    },
    {
      "cell_type": "code",
      "metadata": {
        "id": "OhmQH6QG8J0N"
      },
      "source": [
        "import io\n",
        "df_2 = pd.read_csv(io.BytesIO(data_to_load['test.csv']))"
      ],
      "execution_count": 35,
      "outputs": []
    },
    {
      "cell_type": "code",
      "metadata": {
        "colab": {
          "base_uri": "https://localhost:8080/"
        },
        "id": "9krHxw8Q8J2o",
        "outputId": "b378a685-c9ed-4234-dc50-c5904535de40"
      },
      "source": [
        "df_2.info()"
      ],
      "execution_count": 205,
      "outputs": [
        {
          "output_type": "stream",
          "text": [
            "<class 'pandas.core.frame.DataFrame'>\n",
            "RangeIndex: 28000 entries, 0 to 27999\n",
            "Columns: 784 entries, pixel0 to pixel783\n",
            "dtypes: int64(784)\n",
            "memory usage: 167.5 MB\n"
          ],
          "name": "stdout"
        }
      ]
    },
    {
      "cell_type": "code",
      "metadata": {
        "id": "2fuV_kzP8J5C"
      },
      "source": [
        "# used this to figure it out...  https://medium.com/@simonprdhm/2-ways-to-upload-csv-files-to-google-colab-4d29ffa9db85\n",
        "# this article also offers another solution\n",
        "# which is uploading files to google drive and then loading from there"
      ],
      "execution_count": 206,
      "outputs": []
    },
    {
      "cell_type": "code",
      "metadata": {
        "id": "UIUTb1cH_Xzb"
      },
      "source": [
        "import numpy as np\n",
        "import pandas as pd\n",
        "import os\n",
        "import random\n",
        "import time\n",
        "import datetime\n",
        "\n",
        "import os, numpy as np, pandas, csv, matplotlib.pyplot as plt\n",
        "from datetime import datetime\n",
        "from sklearn.ensemble import RandomForestClassifier as rfc\n",
        "from sklearn.model_selection import RandomizedSearchCV as srch\n",
        "from sklearn.metrics import f1_score as fl\n",
        "from matplotlib import pyplot as plt\n",
        "\n",
        "import pickle\n",
        "import tensorflow as tf\n",
        "#from os.path import isfile, isdir\n",
        "% matplotlib inline\n",
        "\n",
        "import numpy as np                   # advanced math library\n",
        "import matplotlib.pyplot as plt      # MATLAB like plotting routines\n",
        "import random                        # for generating random numbers\n",
        "\n",
        "from keras.datasets import mnist     # MNIST dataset is included in Keras\n",
        "from keras.models import Sequential  # Model type to be used\n",
        "\n",
        "from keras.layers.core import Dense, Dropout, Activation # Types of layers to be used in our model\n",
        "from keras.utils import np_utils   "
      ],
      "execution_count": 207,
      "outputs": []
    },
    {
      "cell_type": "code",
      "metadata": {
        "id": "r_6mo6pf_jNN"
      },
      "source": [
        "train = df"
      ],
      "execution_count": 208,
      "outputs": []
    },
    {
      "cell_type": "code",
      "metadata": {
        "id": "nZRKV1BU_n0j"
      },
      "source": [
        "test = df_2"
      ],
      "execution_count": 209,
      "outputs": []
    },
    {
      "cell_type": "code",
      "metadata": {
        "colab": {
          "base_uri": "https://localhost:8080/"
        },
        "id": "Ylm89fGg_qZw",
        "outputId": "87ca2398-8cca-4344-9fbd-0d4c48024bda"
      },
      "source": [
        "train.info()"
      ],
      "execution_count": 210,
      "outputs": [
        {
          "output_type": "stream",
          "text": [
            "<class 'pandas.core.frame.DataFrame'>\n",
            "RangeIndex: 42000 entries, 0 to 41999\n",
            "Columns: 785 entries, label to pixel783\n",
            "dtypes: int64(785)\n",
            "memory usage: 251.5 MB\n"
          ],
          "name": "stdout"
        }
      ]
    },
    {
      "cell_type": "code",
      "metadata": {
        "colab": {
          "base_uri": "https://localhost:8080/"
        },
        "id": "yulW9gRg_tX9",
        "outputId": "da88870d-c360-4c22-8abe-b4e41f08eae0"
      },
      "source": [
        "test.info()"
      ],
      "execution_count": 211,
      "outputs": [
        {
          "output_type": "stream",
          "text": [
            "<class 'pandas.core.frame.DataFrame'>\n",
            "RangeIndex: 28000 entries, 0 to 27999\n",
            "Columns: 784 entries, pixel0 to pixel783\n",
            "dtypes: int64(784)\n",
            "memory usage: 167.5 MB\n"
          ],
          "name": "stdout"
        }
      ]
    },
    {
      "cell_type": "code",
      "metadata": {
        "colab": {
          "base_uri": "https://localhost:8080/"
        },
        "id": "x4dbNU1f_vRe",
        "outputId": "592b678d-211e-42c4-ad0f-0c0acf689317"
      },
      "source": [
        "train.shape\n"
      ],
      "execution_count": 212,
      "outputs": [
        {
          "output_type": "execute_result",
          "data": {
            "text/plain": [
              "(42000, 785)"
            ]
          },
          "metadata": {
            "tags": []
          },
          "execution_count": 212
        }
      ]
    },
    {
      "cell_type": "code",
      "metadata": {
        "colab": {
          "base_uri": "https://localhost:8080/"
        },
        "id": "tSzzeG7t_yI2",
        "outputId": "37b5e048-bd9e-48e4-c0e6-69e3bc96b66e"
      },
      "source": [
        "test.shape"
      ],
      "execution_count": 213,
      "outputs": [
        {
          "output_type": "execute_result",
          "data": {
            "text/plain": [
              "(28000, 784)"
            ]
          },
          "metadata": {
            "tags": []
          },
          "execution_count": 213
        }
      ]
    },
    {
      "cell_type": "code",
      "metadata": {
        "colab": {
          "base_uri": "https://localhost:8080/",
          "height": 253
        },
        "id": "ZsfHxS-u_3-n",
        "outputId": "7064bbc1-2477-400b-df1e-88b1b32f0eb9"
      },
      "source": [
        "train.head()"
      ],
      "execution_count": 214,
      "outputs": [
        {
          "output_type": "execute_result",
          "data": {
            "text/html": [
              "<div>\n",
              "<style scoped>\n",
              "    .dataframe tbody tr th:only-of-type {\n",
              "        vertical-align: middle;\n",
              "    }\n",
              "\n",
              "    .dataframe tbody tr th {\n",
              "        vertical-align: top;\n",
              "    }\n",
              "\n",
              "    .dataframe thead th {\n",
              "        text-align: right;\n",
              "    }\n",
              "</style>\n",
              "<table border=\"1\" class=\"dataframe\">\n",
              "  <thead>\n",
              "    <tr style=\"text-align: right;\">\n",
              "      <th></th>\n",
              "      <th>label</th>\n",
              "      <th>pixel0</th>\n",
              "      <th>pixel1</th>\n",
              "      <th>pixel2</th>\n",
              "      <th>pixel3</th>\n",
              "      <th>pixel4</th>\n",
              "      <th>pixel5</th>\n",
              "      <th>pixel6</th>\n",
              "      <th>pixel7</th>\n",
              "      <th>pixel8</th>\n",
              "      <th>pixel9</th>\n",
              "      <th>pixel10</th>\n",
              "      <th>pixel11</th>\n",
              "      <th>pixel12</th>\n",
              "      <th>pixel13</th>\n",
              "      <th>pixel14</th>\n",
              "      <th>pixel15</th>\n",
              "      <th>pixel16</th>\n",
              "      <th>pixel17</th>\n",
              "      <th>pixel18</th>\n",
              "      <th>pixel19</th>\n",
              "      <th>pixel20</th>\n",
              "      <th>pixel21</th>\n",
              "      <th>pixel22</th>\n",
              "      <th>pixel23</th>\n",
              "      <th>pixel24</th>\n",
              "      <th>pixel25</th>\n",
              "      <th>pixel26</th>\n",
              "      <th>pixel27</th>\n",
              "      <th>pixel28</th>\n",
              "      <th>pixel29</th>\n",
              "      <th>pixel30</th>\n",
              "      <th>pixel31</th>\n",
              "      <th>pixel32</th>\n",
              "      <th>pixel33</th>\n",
              "      <th>pixel34</th>\n",
              "      <th>pixel35</th>\n",
              "      <th>pixel36</th>\n",
              "      <th>pixel37</th>\n",
              "      <th>pixel38</th>\n",
              "      <th>...</th>\n",
              "      <th>pixel744</th>\n",
              "      <th>pixel745</th>\n",
              "      <th>pixel746</th>\n",
              "      <th>pixel747</th>\n",
              "      <th>pixel748</th>\n",
              "      <th>pixel749</th>\n",
              "      <th>pixel750</th>\n",
              "      <th>pixel751</th>\n",
              "      <th>pixel752</th>\n",
              "      <th>pixel753</th>\n",
              "      <th>pixel754</th>\n",
              "      <th>pixel755</th>\n",
              "      <th>pixel756</th>\n",
              "      <th>pixel757</th>\n",
              "      <th>pixel758</th>\n",
              "      <th>pixel759</th>\n",
              "      <th>pixel760</th>\n",
              "      <th>pixel761</th>\n",
              "      <th>pixel762</th>\n",
              "      <th>pixel763</th>\n",
              "      <th>pixel764</th>\n",
              "      <th>pixel765</th>\n",
              "      <th>pixel766</th>\n",
              "      <th>pixel767</th>\n",
              "      <th>pixel768</th>\n",
              "      <th>pixel769</th>\n",
              "      <th>pixel770</th>\n",
              "      <th>pixel771</th>\n",
              "      <th>pixel772</th>\n",
              "      <th>pixel773</th>\n",
              "      <th>pixel774</th>\n",
              "      <th>pixel775</th>\n",
              "      <th>pixel776</th>\n",
              "      <th>pixel777</th>\n",
              "      <th>pixel778</th>\n",
              "      <th>pixel779</th>\n",
              "      <th>pixel780</th>\n",
              "      <th>pixel781</th>\n",
              "      <th>pixel782</th>\n",
              "      <th>pixel783</th>\n",
              "    </tr>\n",
              "  </thead>\n",
              "  <tbody>\n",
              "    <tr>\n",
              "      <th>0</th>\n",
              "      <td>1</td>\n",
              "      <td>0</td>\n",
              "      <td>0</td>\n",
              "      <td>0</td>\n",
              "      <td>0</td>\n",
              "      <td>0</td>\n",
              "      <td>0</td>\n",
              "      <td>0</td>\n",
              "      <td>0</td>\n",
              "      <td>0</td>\n",
              "      <td>0</td>\n",
              "      <td>0</td>\n",
              "      <td>0</td>\n",
              "      <td>0</td>\n",
              "      <td>0</td>\n",
              "      <td>0</td>\n",
              "      <td>0</td>\n",
              "      <td>0</td>\n",
              "      <td>0</td>\n",
              "      <td>0</td>\n",
              "      <td>0</td>\n",
              "      <td>0</td>\n",
              "      <td>0</td>\n",
              "      <td>0</td>\n",
              "      <td>0</td>\n",
              "      <td>0</td>\n",
              "      <td>0</td>\n",
              "      <td>0</td>\n",
              "      <td>0</td>\n",
              "      <td>0</td>\n",
              "      <td>0</td>\n",
              "      <td>0</td>\n",
              "      <td>0</td>\n",
              "      <td>0</td>\n",
              "      <td>0</td>\n",
              "      <td>0</td>\n",
              "      <td>0</td>\n",
              "      <td>0</td>\n",
              "      <td>0</td>\n",
              "      <td>0</td>\n",
              "      <td>...</td>\n",
              "      <td>0</td>\n",
              "      <td>0</td>\n",
              "      <td>0</td>\n",
              "      <td>0</td>\n",
              "      <td>0</td>\n",
              "      <td>0</td>\n",
              "      <td>0</td>\n",
              "      <td>0</td>\n",
              "      <td>0</td>\n",
              "      <td>0</td>\n",
              "      <td>0</td>\n",
              "      <td>0</td>\n",
              "      <td>0</td>\n",
              "      <td>0</td>\n",
              "      <td>0</td>\n",
              "      <td>0</td>\n",
              "      <td>0</td>\n",
              "      <td>0</td>\n",
              "      <td>0</td>\n",
              "      <td>0</td>\n",
              "      <td>0</td>\n",
              "      <td>0</td>\n",
              "      <td>0</td>\n",
              "      <td>0</td>\n",
              "      <td>0</td>\n",
              "      <td>0</td>\n",
              "      <td>0</td>\n",
              "      <td>0</td>\n",
              "      <td>0</td>\n",
              "      <td>0</td>\n",
              "      <td>0</td>\n",
              "      <td>0</td>\n",
              "      <td>0</td>\n",
              "      <td>0</td>\n",
              "      <td>0</td>\n",
              "      <td>0</td>\n",
              "      <td>0</td>\n",
              "      <td>0</td>\n",
              "      <td>0</td>\n",
              "      <td>0</td>\n",
              "    </tr>\n",
              "    <tr>\n",
              "      <th>1</th>\n",
              "      <td>0</td>\n",
              "      <td>0</td>\n",
              "      <td>0</td>\n",
              "      <td>0</td>\n",
              "      <td>0</td>\n",
              "      <td>0</td>\n",
              "      <td>0</td>\n",
              "      <td>0</td>\n",
              "      <td>0</td>\n",
              "      <td>0</td>\n",
              "      <td>0</td>\n",
              "      <td>0</td>\n",
              "      <td>0</td>\n",
              "      <td>0</td>\n",
              "      <td>0</td>\n",
              "      <td>0</td>\n",
              "      <td>0</td>\n",
              "      <td>0</td>\n",
              "      <td>0</td>\n",
              "      <td>0</td>\n",
              "      <td>0</td>\n",
              "      <td>0</td>\n",
              "      <td>0</td>\n",
              "      <td>0</td>\n",
              "      <td>0</td>\n",
              "      <td>0</td>\n",
              "      <td>0</td>\n",
              "      <td>0</td>\n",
              "      <td>0</td>\n",
              "      <td>0</td>\n",
              "      <td>0</td>\n",
              "      <td>0</td>\n",
              "      <td>0</td>\n",
              "      <td>0</td>\n",
              "      <td>0</td>\n",
              "      <td>0</td>\n",
              "      <td>0</td>\n",
              "      <td>0</td>\n",
              "      <td>0</td>\n",
              "      <td>0</td>\n",
              "      <td>...</td>\n",
              "      <td>0</td>\n",
              "      <td>0</td>\n",
              "      <td>0</td>\n",
              "      <td>0</td>\n",
              "      <td>0</td>\n",
              "      <td>0</td>\n",
              "      <td>0</td>\n",
              "      <td>0</td>\n",
              "      <td>0</td>\n",
              "      <td>0</td>\n",
              "      <td>0</td>\n",
              "      <td>0</td>\n",
              "      <td>0</td>\n",
              "      <td>0</td>\n",
              "      <td>0</td>\n",
              "      <td>0</td>\n",
              "      <td>0</td>\n",
              "      <td>0</td>\n",
              "      <td>0</td>\n",
              "      <td>0</td>\n",
              "      <td>0</td>\n",
              "      <td>0</td>\n",
              "      <td>0</td>\n",
              "      <td>0</td>\n",
              "      <td>0</td>\n",
              "      <td>0</td>\n",
              "      <td>0</td>\n",
              "      <td>0</td>\n",
              "      <td>0</td>\n",
              "      <td>0</td>\n",
              "      <td>0</td>\n",
              "      <td>0</td>\n",
              "      <td>0</td>\n",
              "      <td>0</td>\n",
              "      <td>0</td>\n",
              "      <td>0</td>\n",
              "      <td>0</td>\n",
              "      <td>0</td>\n",
              "      <td>0</td>\n",
              "      <td>0</td>\n",
              "    </tr>\n",
              "    <tr>\n",
              "      <th>2</th>\n",
              "      <td>1</td>\n",
              "      <td>0</td>\n",
              "      <td>0</td>\n",
              "      <td>0</td>\n",
              "      <td>0</td>\n",
              "      <td>0</td>\n",
              "      <td>0</td>\n",
              "      <td>0</td>\n",
              "      <td>0</td>\n",
              "      <td>0</td>\n",
              "      <td>0</td>\n",
              "      <td>0</td>\n",
              "      <td>0</td>\n",
              "      <td>0</td>\n",
              "      <td>0</td>\n",
              "      <td>0</td>\n",
              "      <td>0</td>\n",
              "      <td>0</td>\n",
              "      <td>0</td>\n",
              "      <td>0</td>\n",
              "      <td>0</td>\n",
              "      <td>0</td>\n",
              "      <td>0</td>\n",
              "      <td>0</td>\n",
              "      <td>0</td>\n",
              "      <td>0</td>\n",
              "      <td>0</td>\n",
              "      <td>0</td>\n",
              "      <td>0</td>\n",
              "      <td>0</td>\n",
              "      <td>0</td>\n",
              "      <td>0</td>\n",
              "      <td>0</td>\n",
              "      <td>0</td>\n",
              "      <td>0</td>\n",
              "      <td>0</td>\n",
              "      <td>0</td>\n",
              "      <td>0</td>\n",
              "      <td>0</td>\n",
              "      <td>0</td>\n",
              "      <td>...</td>\n",
              "      <td>0</td>\n",
              "      <td>0</td>\n",
              "      <td>0</td>\n",
              "      <td>0</td>\n",
              "      <td>0</td>\n",
              "      <td>0</td>\n",
              "      <td>0</td>\n",
              "      <td>0</td>\n",
              "      <td>0</td>\n",
              "      <td>0</td>\n",
              "      <td>0</td>\n",
              "      <td>0</td>\n",
              "      <td>0</td>\n",
              "      <td>0</td>\n",
              "      <td>0</td>\n",
              "      <td>0</td>\n",
              "      <td>0</td>\n",
              "      <td>0</td>\n",
              "      <td>0</td>\n",
              "      <td>0</td>\n",
              "      <td>0</td>\n",
              "      <td>0</td>\n",
              "      <td>0</td>\n",
              "      <td>0</td>\n",
              "      <td>0</td>\n",
              "      <td>0</td>\n",
              "      <td>0</td>\n",
              "      <td>0</td>\n",
              "      <td>0</td>\n",
              "      <td>0</td>\n",
              "      <td>0</td>\n",
              "      <td>0</td>\n",
              "      <td>0</td>\n",
              "      <td>0</td>\n",
              "      <td>0</td>\n",
              "      <td>0</td>\n",
              "      <td>0</td>\n",
              "      <td>0</td>\n",
              "      <td>0</td>\n",
              "      <td>0</td>\n",
              "    </tr>\n",
              "    <tr>\n",
              "      <th>3</th>\n",
              "      <td>4</td>\n",
              "      <td>0</td>\n",
              "      <td>0</td>\n",
              "      <td>0</td>\n",
              "      <td>0</td>\n",
              "      <td>0</td>\n",
              "      <td>0</td>\n",
              "      <td>0</td>\n",
              "      <td>0</td>\n",
              "      <td>0</td>\n",
              "      <td>0</td>\n",
              "      <td>0</td>\n",
              "      <td>0</td>\n",
              "      <td>0</td>\n",
              "      <td>0</td>\n",
              "      <td>0</td>\n",
              "      <td>0</td>\n",
              "      <td>0</td>\n",
              "      <td>0</td>\n",
              "      <td>0</td>\n",
              "      <td>0</td>\n",
              "      <td>0</td>\n",
              "      <td>0</td>\n",
              "      <td>0</td>\n",
              "      <td>0</td>\n",
              "      <td>0</td>\n",
              "      <td>0</td>\n",
              "      <td>0</td>\n",
              "      <td>0</td>\n",
              "      <td>0</td>\n",
              "      <td>0</td>\n",
              "      <td>0</td>\n",
              "      <td>0</td>\n",
              "      <td>0</td>\n",
              "      <td>0</td>\n",
              "      <td>0</td>\n",
              "      <td>0</td>\n",
              "      <td>0</td>\n",
              "      <td>0</td>\n",
              "      <td>0</td>\n",
              "      <td>...</td>\n",
              "      <td>0</td>\n",
              "      <td>0</td>\n",
              "      <td>0</td>\n",
              "      <td>0</td>\n",
              "      <td>0</td>\n",
              "      <td>0</td>\n",
              "      <td>0</td>\n",
              "      <td>0</td>\n",
              "      <td>0</td>\n",
              "      <td>0</td>\n",
              "      <td>0</td>\n",
              "      <td>0</td>\n",
              "      <td>0</td>\n",
              "      <td>0</td>\n",
              "      <td>0</td>\n",
              "      <td>0</td>\n",
              "      <td>0</td>\n",
              "      <td>0</td>\n",
              "      <td>0</td>\n",
              "      <td>0</td>\n",
              "      <td>0</td>\n",
              "      <td>0</td>\n",
              "      <td>0</td>\n",
              "      <td>0</td>\n",
              "      <td>0</td>\n",
              "      <td>0</td>\n",
              "      <td>0</td>\n",
              "      <td>0</td>\n",
              "      <td>0</td>\n",
              "      <td>0</td>\n",
              "      <td>0</td>\n",
              "      <td>0</td>\n",
              "      <td>0</td>\n",
              "      <td>0</td>\n",
              "      <td>0</td>\n",
              "      <td>0</td>\n",
              "      <td>0</td>\n",
              "      <td>0</td>\n",
              "      <td>0</td>\n",
              "      <td>0</td>\n",
              "    </tr>\n",
              "    <tr>\n",
              "      <th>4</th>\n",
              "      <td>0</td>\n",
              "      <td>0</td>\n",
              "      <td>0</td>\n",
              "      <td>0</td>\n",
              "      <td>0</td>\n",
              "      <td>0</td>\n",
              "      <td>0</td>\n",
              "      <td>0</td>\n",
              "      <td>0</td>\n",
              "      <td>0</td>\n",
              "      <td>0</td>\n",
              "      <td>0</td>\n",
              "      <td>0</td>\n",
              "      <td>0</td>\n",
              "      <td>0</td>\n",
              "      <td>0</td>\n",
              "      <td>0</td>\n",
              "      <td>0</td>\n",
              "      <td>0</td>\n",
              "      <td>0</td>\n",
              "      <td>0</td>\n",
              "      <td>0</td>\n",
              "      <td>0</td>\n",
              "      <td>0</td>\n",
              "      <td>0</td>\n",
              "      <td>0</td>\n",
              "      <td>0</td>\n",
              "      <td>0</td>\n",
              "      <td>0</td>\n",
              "      <td>0</td>\n",
              "      <td>0</td>\n",
              "      <td>0</td>\n",
              "      <td>0</td>\n",
              "      <td>0</td>\n",
              "      <td>0</td>\n",
              "      <td>0</td>\n",
              "      <td>0</td>\n",
              "      <td>0</td>\n",
              "      <td>0</td>\n",
              "      <td>0</td>\n",
              "      <td>...</td>\n",
              "      <td>0</td>\n",
              "      <td>0</td>\n",
              "      <td>0</td>\n",
              "      <td>0</td>\n",
              "      <td>0</td>\n",
              "      <td>0</td>\n",
              "      <td>0</td>\n",
              "      <td>0</td>\n",
              "      <td>0</td>\n",
              "      <td>0</td>\n",
              "      <td>0</td>\n",
              "      <td>0</td>\n",
              "      <td>0</td>\n",
              "      <td>0</td>\n",
              "      <td>0</td>\n",
              "      <td>0</td>\n",
              "      <td>0</td>\n",
              "      <td>0</td>\n",
              "      <td>0</td>\n",
              "      <td>0</td>\n",
              "      <td>0</td>\n",
              "      <td>0</td>\n",
              "      <td>0</td>\n",
              "      <td>0</td>\n",
              "      <td>0</td>\n",
              "      <td>0</td>\n",
              "      <td>0</td>\n",
              "      <td>0</td>\n",
              "      <td>0</td>\n",
              "      <td>0</td>\n",
              "      <td>0</td>\n",
              "      <td>0</td>\n",
              "      <td>0</td>\n",
              "      <td>0</td>\n",
              "      <td>0</td>\n",
              "      <td>0</td>\n",
              "      <td>0</td>\n",
              "      <td>0</td>\n",
              "      <td>0</td>\n",
              "      <td>0</td>\n",
              "    </tr>\n",
              "  </tbody>\n",
              "</table>\n",
              "<p>5 rows × 785 columns</p>\n",
              "</div>"
            ],
            "text/plain": [
              "   label  pixel0  pixel1  pixel2  ...  pixel780  pixel781  pixel782  pixel783\n",
              "0      1       0       0       0  ...         0         0         0         0\n",
              "1      0       0       0       0  ...         0         0         0         0\n",
              "2      1       0       0       0  ...         0         0         0         0\n",
              "3      4       0       0       0  ...         0         0         0         0\n",
              "4      0       0       0       0  ...         0         0         0         0\n",
              "\n",
              "[5 rows x 785 columns]"
            ]
          },
          "metadata": {
            "tags": []
          },
          "execution_count": 214
        }
      ]
    },
    {
      "cell_type": "code",
      "metadata": {
        "id": "sCHa2pJ8Ghlg"
      },
      "source": [
        "X_train = train.drop([\"label\"],axis = 1)\n",
        "Y_train = train[\"label\"]\n",
        "test=test"
      ],
      "execution_count": 215,
      "outputs": []
    },
    {
      "cell_type": "code",
      "metadata": {
        "colab": {
          "base_uri": "https://localhost:8080/",
          "height": 265
        },
        "id": "5MXUnPCY_63H",
        "outputId": "792ae85b-3bac-4d37-da5f-ae2c1ba4eb0c"
      },
      "source": [
        "first_image = np.array(train.iloc[5,1:785], dtype='float')\n",
        "pixels = first_image.reshape((28,28))\n",
        "plt.imshow(pixels, cmap='gray')\n",
        "plt.show()"
      ],
      "execution_count": 216,
      "outputs": [
        {
          "output_type": "display_data",
          "data": {
            "image/png": "[encoded data removed]",
            "text/plain": [
              "<Figure size 432x288 with 1 Axes>"
            ]
          },
          "metadata": {
            "tags": [],
            "needs_background": "light"
          }
        }
      ]
    },
    {
      "cell_type": "code",
      "metadata": {
        "colab": {
          "base_uri": "https://localhost:8080/"
        },
        "id": "UDspu0b5AAEd",
        "outputId": "d9913d37-bf5e-4752-9f81-dcccd0340ce1"
      },
      "source": [
        "# Inspect class balances for train set, seems relatively balanced\n",
        "print(train['label'].value_counts(ascending=False))\n",
        "print('--------------------')\n",
        "print(train['label'].value_counts(normalize=True))"
      ],
      "execution_count": 217,
      "outputs": [
        {
          "output_type": "stream",
          "text": [
            "1    4684\n",
            "7    4401\n",
            "3    4351\n",
            "9    4188\n",
            "2    4177\n",
            "6    4137\n",
            "0    4132\n",
            "4    4072\n",
            "8    4063\n",
            "5    3795\n",
            "Name: label, dtype: int64\n",
            "--------------------\n",
            "1    0.111524\n",
            "7    0.104786\n",
            "3    0.103595\n",
            "9    0.099714\n",
            "2    0.099452\n",
            "6    0.098500\n",
            "0    0.098381\n",
            "4    0.096952\n",
            "8    0.096738\n",
            "5    0.090357\n",
            "Name: label, dtype: float64\n"
          ],
          "name": "stdout"
        }
      ]
    },
    {
      "cell_type": "code",
      "metadata": {
        "colab": {
          "base_uri": "https://localhost:8080/",
          "height": 349
        },
        "id": "xfVNhGp3AC8q",
        "outputId": "f67a4f7d-e9e6-47b4-d949-4d19b668f668"
      },
      "source": [
        "import seaborn as sns\n",
        "\n",
        "# Plot total distribution of labels in Kaggle train set\n",
        "mn_plt_total = sns.countplot(train['label'], palette=\"muted\").set_title('Total Digit Distribution')"
      ],
      "execution_count": 218,
      "outputs": [
        {
          "output_type": "stream",
          "text": [
            "/usr/local/lib/python3.6/dist-packages/seaborn/_decorators.py:43: FutureWarning: Pass the following variable as a keyword arg: x. From version 0.12, the only valid positional argument will be `data`, and passing other arguments without an explicit keyword will result in an error or misinterpretation.\n",
            "  FutureWarning\n"
          ],
          "name": "stderr"
        },
        {
          "output_type": "display_data",
          "data": {
            "image/png": "[encoded data removed]",
            "text/plain": [
              "<Figure size 432x288 with 1 Axes>"
            ]
          },
          "metadata": {
            "tags": [],
            "needs_background": "light"
          }
        }
      ]
    },
    {
      "cell_type": "code",
      "metadata": {
        "id": "F6wAATBeIka_"
      },
      "source": [
        "# normalize the data\n",
        " # normalize each value for each pixel for the entire vector for each input\n",
        "X_train = X_train/255.0\n",
        "test = test/255.0"
      ],
      "execution_count": 219,
      "outputs": []
    },
    {
      "cell_type": "code",
      "metadata": {
        "colab": {
          "base_uri": "https://localhost:8080/"
        },
        "id": "PfbD_A55AJlA",
        "outputId": "e798bdea-b512-45eb-aae6-adad0b65112a"
      },
      "source": [
        "train.isnull().any().describe()"
      ],
      "execution_count": 220,
      "outputs": [
        {
          "output_type": "execute_result",
          "data": {
            "text/plain": [
              "count       785\n",
              "unique        1\n",
              "top       False\n",
              "freq        785\n",
              "dtype: object"
            ]
          },
          "metadata": {
            "tags": []
          },
          "execution_count": 220
        }
      ]
    },
    {
      "cell_type": "code",
      "metadata": {
        "colab": {
          "base_uri": "https://localhost:8080/"
        },
        "id": "9E8yAIt4Aap0",
        "outputId": "dc4426a0-34c1-4126-d92e-a60c4ad0204d"
      },
      "source": [
        "test.isnull().any().describe()"
      ],
      "execution_count": 221,
      "outputs": [
        {
          "output_type": "execute_result",
          "data": {
            "text/plain": [
              "count       784\n",
              "unique        1\n",
              "top       False\n",
              "freq        784\n",
              "dtype: object"
            ]
          },
          "metadata": {
            "tags": []
          },
          "execution_count": 221
        }
      ]
    },
    {
      "cell_type": "code",
      "metadata": {
        "id": "LhMUki_mH9Ba"
      },
      "source": [
        "from sklearn.model_selection import train_test_split\n",
        "# Set the random seed\n",
        "random_seed = 123\n",
        "X_train, X_test, Y_train, Y_test = train_test_split(X_train, Y_train, test_size = 0.2, random_state=random_seed)"
      ],
      "execution_count": 222,
      "outputs": []
    },
    {
      "cell_type": "code",
      "metadata": {
        "colab": {
          "base_uri": "https://localhost:8080/"
        },
        "id": "UtL2JaV-AgTL",
        "outputId": "26e7e709-3772-4023-e029-f55088810d67"
      },
      "source": [
        "\n",
        "print(\"X_train shape\", X_train.shape)\n",
        "print(\"Y_train shape\", Y_train.shape)\n",
        "print(\"X_test shape\", X_test.shape)\n",
        "print(\"Y_test shape\", Y_test.shape)"
      ],
      "execution_count": 223,
      "outputs": [
        {
          "output_type": "stream",
          "text": [
            "X_train shape (33600, 784)\n",
            "Y_train shape (33600,)\n",
            "X_test shape (8400, 784)\n",
            "Y_test shape (8400,)\n"
          ],
          "name": "stdout"
        }
      ]
    },
    {
      "cell_type": "code",
      "metadata": {
        "id": "GJyCGT8hBpaC"
      },
      "source": [
        "from keras.utils.np_utils import to_categorical\n",
        "#nb_classes = 10 # number of unique digits\n",
        "#Y_train = to_categorical(Y_train, nb_classes)\n",
        "#could also write it\n",
        "#Y_train = np_utils.to_categorical(Y_train, num_classes = 10)\n",
        "\n",
        "nb_classes = 10 # number of unique digits\n",
        "\n",
        "Y_train = np_utils.to_categorical(Y_train, nb_classes)\n",
        "Y_test = np_utils.to_categorical(Y_test, nb_classes)"
      ],
      "execution_count": 224,
      "outputs": []
    },
    {
      "cell_type": "code",
      "metadata": {
        "id": "4CTsybzUBp6c"
      },
      "source": [
        "# The Sequential model is a linear stack of layers and is very common.\n",
        "\n",
        "model = Sequential()"
      ],
      "execution_count": 225,
      "outputs": []
    },
    {
      "cell_type": "code",
      "metadata": {
        "id": "qlAIVLq_BqCQ"
      },
      "source": [
        "# The first hidden layer is a set of 512 nodes (artificial neurons).\n",
        "# Each node will receive an element from each input vector and apply some weight and bias to it.\n",
        "\n",
        "model.add(Dense(512, input_shape=(784,))) #(784,) is not a typo -- that represents a 784 length vector!"
      ],
      "execution_count": 226,
      "outputs": []
    },
    {
      "cell_type": "code",
      "metadata": {
        "id": "0oi2-qlJBqDk"
      },
      "source": [
        "# An \"activation\" is a non-linear function applied to the output of the layer above.\n",
        "# It checks the new value of the node, and decides whether that artifical neuron has fired.\n",
        "# The Rectified Linear Unit (ReLU) converts all negative inputs to nodes in the next layer to be zero.\n",
        "# Those inputs are then not considered to be fired.\n",
        "# Positive values of a node are unchanged.\n",
        "\n",
        "model.add(Activation('relu'))"
      ],
      "execution_count": 227,
      "outputs": []
    },
    {
      "cell_type": "code",
      "metadata": {
        "id": "o_Mg7OhYKnV9"
      },
      "source": [
        "# Dropout zeroes a selection of random outputs (i.e., disables their activation)\n",
        "# Dropout helps protect the model from memorizing or \"overfitting\" the training data.\n",
        "model.add(Dropout(0.2))"
      ],
      "execution_count": 228,
      "outputs": []
    },
    {
      "cell_type": "code",
      "metadata": {
        "id": "BoA-H-grKoD5"
      },
      "source": [
        "# The second hidden layer appears identical to our first layer.\n",
        "# However, instead of each of the 512-node receiving 784-inputs from the input image data,\n",
        "# they receive 512 inputs from the output of the first 512-node layer.\n",
        "\n",
        "model.add(Dense(512))\n",
        "model.add(Activation('relu'))\n",
        "model.add(Dropout(0.2))"
      ],
      "execution_count": 229,
      "outputs": []
    },
    {
      "cell_type": "code",
      "metadata": {
        "id": "MqHrgVNfKoGi"
      },
      "source": [
        "# The final layer of 10 neurons in fully-connected to the previous 512-node layer.\n",
        "# The final layer of a FCN should be equal to the number of desired classes (10 in this case).\n",
        "model.add(Dense(10))"
      ],
      "execution_count": 230,
      "outputs": []
    },
    {
      "cell_type": "code",
      "metadata": {
        "id": "IiqDbnX4KoJq"
      },
      "source": [
        "# The \"softmax\" activation represents a probability distribution over K different possible outcomes.\n",
        "# Its values are all non-negative and sum to 1.\n",
        "\n",
        "model.add(Activation('softmax'))"
      ],
      "execution_count": 231,
      "outputs": []
    },
    {
      "cell_type": "code",
      "metadata": {
        "colab": {
          "base_uri": "https://localhost:8080/"
        },
        "id": "ZTXHX6ovKoL_",
        "outputId": "34ce71ab-06b0-4c35-e641-4871f96b8039"
      },
      "source": [
        "# Summarize the built model\n",
        "\n",
        "model.summary()"
      ],
      "execution_count": 232,
      "outputs": [
        {
          "output_type": "stream",
          "text": [
            "Model: \"sequential_12\"\n",
            "_________________________________________________________________\n",
            "Layer (type)                 Output Shape              Param #   \n",
            "=================================================================\n",
            "dense_42 (Dense)             (None, 512)               401920    \n",
            "_________________________________________________________________\n",
            "activation_52 (Activation)   (None, 512)               0         \n",
            "_________________________________________________________________\n",
            "dropout_10 (Dropout)         (None, 512)               0         \n",
            "_________________________________________________________________\n",
            "dense_43 (Dense)             (None, 512)               262656    \n",
            "_________________________________________________________________\n",
            "activation_53 (Activation)   (None, 512)               0         \n",
            "_________________________________________________________________\n",
            "dropout_11 (Dropout)         (None, 512)               0         \n",
            "_________________________________________________________________\n",
            "dense_44 (Dense)             (None, 10)                5130      \n",
            "_________________________________________________________________\n",
            "activation_54 (Activation)   (None, 10)                0         \n",
            "=================================================================\n",
            "Total params: 669,706\n",
            "Trainable params: 669,706\n",
            "Non-trainable params: 0\n",
            "_________________________________________________________________\n"
          ],
          "name": "stdout"
        }
      ]
    },
    {
      "cell_type": "code",
      "metadata": {
        "id": "YsrjeNOpKoOa"
      },
      "source": [
        "# Let's use the Adam optimizer for learning\n",
        "model.compile(loss='categorical_crossentropy', optimizer='adam', metrics=['accuracy'])"
      ],
      "execution_count": 233,
      "outputs": []
    },
    {
      "cell_type": "code",
      "metadata": {
        "colab": {
          "base_uri": "https://localhost:8080/"
        },
        "id": "2EDhceywKoQr",
        "outputId": "4e4bd017-4350-4a33-95ef-bfa254fe67c8"
      },
      "source": [
        "# model.fit(X_train, Y_train,\n",
        " #         batch_size=128, epochs=5,\n",
        " #         verbose=1)\n",
        "\n",
        "start,myfit,end=datetime.now(),(model.fit(X_train, Y_train,batch_size=128, epochs=5,verbose=1)),datetime.now()\n",
        "print(\"Total time to fit model:\" , end-start)"
      ],
      "execution_count": 234,
      "outputs": [
        {
          "output_type": "stream",
          "text": [
            "Epoch 1/5\n",
            "263/263 [==============================] - 3s 11ms/step - loss: 0.5692 - accuracy: 0.8303\n",
            "Epoch 2/5\n",
            "263/263 [==============================] - 3s 12ms/step - loss: 0.1342 - accuracy: 0.9588\n",
            "Epoch 3/5\n",
            "263/263 [==============================] - 3s 12ms/step - loss: 0.0881 - accuracy: 0.9730\n",
            "Epoch 4/5\n",
            "263/263 [==============================] - 3s 12ms/step - loss: 0.0608 - accuracy: 0.9801\n",
            "Epoch 5/5\n",
            "263/263 [==============================] - 3s 12ms/step - loss: 0.0457 - accuracy: 0.9857\n",
            "Total time to fit model: 0:00:15.927568\n"
          ],
          "name": "stdout"
        }
      ]
    },
    {
      "cell_type": "code",
      "metadata": {
        "colab": {
          "base_uri": "https://localhost:8080/"
        },
        "id": "a2Akx2zcKoTC",
        "outputId": "af886080-2fdd-4cc6-ffc5-0ce766becc62"
      },
      "source": [
        "score = model.evaluate(X_test, Y_test)\n",
        "print('Test score:', score[0])\n",
        "print('Test accuracy, 512 nodes for first two layers, and 10 nodes for third layer, dropout 0.2:', score[1])"
      ],
      "execution_count": 235,
      "outputs": [
        {
          "output_type": "stream",
          "text": [
            "263/263 [==============================] - 1s 2ms/step - loss: 0.0835 - accuracy: 0.9761\n",
            "Test score: 0.08354108780622482\n",
            "Test accuracy, 512 nodes for first two layers, and 10 nodes for third layer, dropout 0.2: 0.9760714173316956\n"
          ],
          "name": "stdout"
        }
      ]
    },
    {
      "cell_type": "code",
      "metadata": {
        "id": "0ZUYN_UsKoah"
      },
      "source": [
        "# The Sequential model is a linear stack of layers and is very common.\n",
        "#Creating a 2nd model\n",
        "\n",
        "model_2 = Sequential()\n",
        "\n",
        "# 1st layer\n",
        "model_2.add(Dense(20, input_shape=(784,)))\n",
        "model_2.add(Activation('relu'))"
      ],
      "execution_count": 236,
      "outputs": []
    },
    {
      "cell_type": "code",
      "metadata": {
        "id": "gR63g9aSBqE5"
      },
      "source": [
        "# 2nd hidden layer\n",
        "model_2.add(Dense(10))\n",
        "model_2.add(Activation('relu'))"
      ],
      "execution_count": 237,
      "outputs": []
    },
    {
      "cell_type": "code",
      "metadata": {
        "id": "DzfW7vzqBqGQ"
      },
      "source": [
        "model_2.add(Activation('softmax'))"
      ],
      "execution_count": 238,
      "outputs": []
    },
    {
      "cell_type": "code",
      "metadata": {
        "colab": {
          "base_uri": "https://localhost:8080/"
        },
        "id": "IOpbzNcyBqH2",
        "outputId": "397b04e7-8c5f-435c-8988-c02a8437d61e"
      },
      "source": [
        "# Summarize the built model\n",
        "\n",
        "model_2.summary()"
      ],
      "execution_count": 239,
      "outputs": [
        {
          "output_type": "stream",
          "text": [
            "Model: \"sequential_13\"\n",
            "_________________________________________________________________\n",
            "Layer (type)                 Output Shape              Param #   \n",
            "=================================================================\n",
            "dense_45 (Dense)             (None, 20)                15700     \n",
            "_________________________________________________________________\n",
            "activation_55 (Activation)   (None, 20)                0         \n",
            "_________________________________________________________________\n",
            "dense_46 (Dense)             (None, 10)                210       \n",
            "_________________________________________________________________\n",
            "activation_56 (Activation)   (None, 10)                0         \n",
            "_________________________________________________________________\n",
            "activation_57 (Activation)   (None, 10)                0         \n",
            "=================================================================\n",
            "Total params: 15,910\n",
            "Trainable params: 15,910\n",
            "Non-trainable params: 0\n",
            "_________________________________________________________________\n"
          ],
          "name": "stdout"
        }
      ]
    },
    {
      "cell_type": "code",
      "metadata": {
        "id": "JxXRDHAPBqIx"
      },
      "source": [
        "# Let's use the Adam optimizer for learning\n",
        "model_2.compile(loss='categorical_crossentropy', optimizer='adam', metrics=['accuracy'])"
      ],
      "execution_count": 240,
      "outputs": []
    },
    {
      "cell_type": "code",
      "metadata": {
        "colab": {
          "base_uri": "https://localhost:8080/"
        },
        "id": "ZBoa9Ka5BqKG",
        "outputId": "5e8739ab-6319-4596-ff02-97e9aedfe58e"
      },
      "source": [
        "# model.fit(X_train, Y_train,\n",
        " #         batch_size=128, epochs=5,\n",
        " #         verbose=1)\n",
        "\n",
        "start,myfit_2,end=datetime.now(),(model_2.fit(X_train, Y_train,batch_size=128, epochs=5,verbose=1)),datetime.now()\n",
        "print(\"Total time to fit model:\" , end-start)"
      ],
      "execution_count": 241,
      "outputs": [
        {
          "output_type": "stream",
          "text": [
            "Epoch 1/5\n",
            "263/263 [==============================] - 1s 2ms/step - loss: 1.4236 - accuracy: 0.5818\n",
            "Epoch 2/5\n",
            "263/263 [==============================] - 1s 2ms/step - loss: 0.4937 - accuracy: 0.8727\n",
            "Epoch 3/5\n",
            "263/263 [==============================] - 1s 2ms/step - loss: 0.2776 - accuracy: 0.9216\n",
            "Epoch 4/5\n",
            "263/263 [==============================] - 1s 2ms/step - loss: 0.2453 - accuracy: 0.9295\n",
            "Epoch 5/5\n",
            "263/263 [==============================] - 1s 2ms/step - loss: 0.2258 - accuracy: 0.9358\n",
            "Total time to fit model: 0:00:03.548942\n"
          ],
          "name": "stdout"
        }
      ]
    },
    {
      "cell_type": "code",
      "metadata": {
        "colab": {
          "base_uri": "https://localhost:8080/"
        },
        "id": "WFfXmudABqLX",
        "outputId": "2c8978c0-b362-44f1-8e1f-f7970492ff61"
      },
      "source": [
        "score = model_2.evaluate(X_test, Y_test)\n",
        "print('Test score:', score[0])\n",
        "print('Test accuracy, a layer of 20 nodes in first layer and 10 in second layer::', score[1])"
      ],
      "execution_count": 242,
      "outputs": [
        {
          "output_type": "stream",
          "text": [
            "263/263 [==============================] - 0s 1ms/step - loss: 0.2340 - accuracy: 0.9312\n",
            "Test score: 0.23401477932929993\n",
            "Test accuracy, a layer of 20 nodes in first layer and 10 in second layer:: 0.9311904907226562\n"
          ],
          "name": "stdout"
        }
      ]
    },
    {
      "cell_type": "code",
      "metadata": {
        "colab": {
          "base_uri": "https://localhost:8080/"
        },
        "id": "no5TzQYBBqMt",
        "outputId": "bd2cc5f4-5e7a-44a7-f846-0bc85f0f97c6"
      },
      "source": [
        "# create 3rd model\n",
        "\n",
        "# The Sequential model is a linear stack of layers and is very common.\n",
        "\n",
        "model_3 = Sequential()\n",
        "\n",
        "# 1st layer\n",
        "model_3.add(Dense(20, input_shape=(784,)))\n",
        "model_3.add(Activation('relu'))\n",
        "\n",
        "# 2nd hidden layer\n",
        "model_3.add(Dense(20))\n",
        "model_3.add(Activation('relu'))\n",
        "\n",
        "# 3rd hidden layer\n",
        "model_3.add(Dense(20))\n",
        "model_3.add(Activation('relu'))\n",
        "\n",
        "# 4th hidden layer\n",
        "model_3.add(Dense(20))\n",
        "model_3.add(Activation('relu'))\n",
        "\n",
        "# 5th hidden layer\n",
        "model_3.add(Dense(10))\n",
        "model_3.add(Activation('relu'))\n",
        "\n",
        "model_3.add(Activation('softmax'))\n",
        "\n",
        "# Summarize the built model\n",
        "\n",
        "model_3.summary()"
      ],
      "execution_count": 243,
      "outputs": [
        {
          "output_type": "stream",
          "text": [
            "Model: \"sequential_14\"\n",
            "_________________________________________________________________\n",
            "Layer (type)                 Output Shape              Param #   \n",
            "=================================================================\n",
            "dense_47 (Dense)             (None, 20)                15700     \n",
            "_________________________________________________________________\n",
            "activation_58 (Activation)   (None, 20)                0         \n",
            "_________________________________________________________________\n",
            "dense_48 (Dense)             (None, 20)                420       \n",
            "_________________________________________________________________\n",
            "activation_59 (Activation)   (None, 20)                0         \n",
            "_________________________________________________________________\n",
            "dense_49 (Dense)             (None, 20)                420       \n",
            "_________________________________________________________________\n",
            "activation_60 (Activation)   (None, 20)                0         \n",
            "_________________________________________________________________\n",
            "dense_50 (Dense)             (None, 20)                420       \n",
            "_________________________________________________________________\n",
            "activation_61 (Activation)   (None, 20)                0         \n",
            "_________________________________________________________________\n",
            "dense_51 (Dense)             (None, 10)                210       \n",
            "_________________________________________________________________\n",
            "activation_62 (Activation)   (None, 10)                0         \n",
            "_________________________________________________________________\n",
            "activation_63 (Activation)   (None, 10)                0         \n",
            "=================================================================\n",
            "Total params: 17,170\n",
            "Trainable params: 17,170\n",
            "Non-trainable params: 0\n",
            "_________________________________________________________________\n"
          ],
          "name": "stdout"
        }
      ]
    },
    {
      "cell_type": "code",
      "metadata": {
        "id": "Ebml5DyRBqOA"
      },
      "source": [
        "# Let's use the Adam optimizer for learning\n",
        "model_3.compile(loss='categorical_crossentropy', optimizer='adam', metrics=['accuracy'])"
      ],
      "execution_count": 244,
      "outputs": []
    },
    {
      "cell_type": "code",
      "metadata": {
        "colab": {
          "base_uri": "https://localhost:8080/"
        },
        "id": "GfKY_uDwBqPc",
        "outputId": "8f8d62fe-eaa7-4f97-af8f-8a3ecf88add1"
      },
      "source": [
        "# model.fit(X_train, Y_train,\n",
        " #         batch_size=128, epochs=5,\n",
        " #         verbose=1)\n",
        "\n",
        "start,myfit_3,end=datetime.now(),(model_3.fit(X_train, Y_train,batch_size=128, epochs=5,verbose=1)),datetime.now()\n",
        "print(\"Total time to fit model:\" , end-start)"
      ],
      "execution_count": 245,
      "outputs": [
        {
          "output_type": "stream",
          "text": [
            "Epoch 1/5\n",
            "263/263 [==============================] - 1s 2ms/step - loss: 1.6126 - accuracy: 0.4177\n",
            "Epoch 2/5\n",
            "263/263 [==============================] - 1s 2ms/step - loss: 0.5726 - accuracy: 0.8047\n",
            "Epoch 3/5\n",
            "263/263 [==============================] - 1s 2ms/step - loss: 0.5099 - accuracy: 0.8191\n",
            "Epoch 4/5\n",
            "263/263 [==============================] - 1s 2ms/step - loss: 0.4604 - accuracy: 0.8337\n",
            "Epoch 5/5\n",
            "263/263 [==============================] - 1s 2ms/step - loss: 0.4303 - accuracy: 0.8427\n",
            "Total time to fit model: 0:00:03.802445\n"
          ],
          "name": "stdout"
        }
      ]
    },
    {
      "cell_type": "code",
      "metadata": {
        "colab": {
          "base_uri": "https://localhost:8080/"
        },
        "id": "3S1Xdur7BqQo",
        "outputId": "642d8561-b51c-4204-bc76-dc7d7a226c70"
      },
      "source": [
        "score = model_3.evaluate(X_test, Y_test)\n",
        "print('Test score:', score[0])\n",
        "print('Test accuracy, 5 layers of 20 nodes per layer::', score[1])"
      ],
      "execution_count": 246,
      "outputs": [
        {
          "output_type": "stream",
          "text": [
            "263/263 [==============================] - 0s 1ms/step - loss: 0.4476 - accuracy: 0.8364\n",
            "Test score: 0.44764038920402527\n",
            "Test accuracy, 5 layers of 20 nodes per layer:: 0.8364285826683044\n"
          ],
          "name": "stdout"
        }
      ]
    },
    {
      "cell_type": "code",
      "metadata": {
        "colab": {
          "base_uri": "https://localhost:8080/"
        },
        "id": "yZ3MSVHGBqR7",
        "outputId": "df186910-424f-46ca-8b32-86b4b058bef6"
      },
      "source": [
        "# create 4th model\n",
        "\n",
        "# The Sequential model is a linear stack of layers and is very common.\n",
        "\n",
        "model_4 = Sequential()\n",
        "\n",
        "# 1st layer\n",
        "model_4.add(Dense(10, input_shape=(784,)))\n",
        "model_4.add(Activation('relu'))\n",
        "\n",
        "# 2nd hidden layer\n",
        "model_4.add(Dense(10))\n",
        "model_4.add(Activation('relu'))\n",
        "\n",
        "# 3rd hidden layer\n",
        "model_4.add(Dense(10))\n",
        "model_4.add(Activation('relu'))\n",
        "\n",
        "# 4th hidden layer\n",
        "model_4.add(Dense(10))\n",
        "model_4.add(Activation('relu'))\n",
        "\n",
        "# 5th hidden layer\n",
        "model_4.add(Dense(10))\n",
        "model_4.add(Activation('relu'))\n",
        "\n",
        "model_4.add(Activation('softmax'))\n",
        "\n",
        "# Summarize the built model\n",
        "\n",
        "model_4.summary()"
      ],
      "execution_count": 247,
      "outputs": [
        {
          "output_type": "stream",
          "text": [
            "Model: \"sequential_15\"\n",
            "_________________________________________________________________\n",
            "Layer (type)                 Output Shape              Param #   \n",
            "=================================================================\n",
            "dense_52 (Dense)             (None, 10)                7850      \n",
            "_________________________________________________________________\n",
            "activation_64 (Activation)   (None, 10)                0         \n",
            "_________________________________________________________________\n",
            "dense_53 (Dense)             (None, 10)                110       \n",
            "_________________________________________________________________\n",
            "activation_65 (Activation)   (None, 10)                0         \n",
            "_________________________________________________________________\n",
            "dense_54 (Dense)             (None, 10)                110       \n",
            "_________________________________________________________________\n",
            "activation_66 (Activation)   (None, 10)                0         \n",
            "_________________________________________________________________\n",
            "dense_55 (Dense)             (None, 10)                110       \n",
            "_________________________________________________________________\n",
            "activation_67 (Activation)   (None, 10)                0         \n",
            "_________________________________________________________________\n",
            "dense_56 (Dense)             (None, 10)                110       \n",
            "_________________________________________________________________\n",
            "activation_68 (Activation)   (None, 10)                0         \n",
            "_________________________________________________________________\n",
            "activation_69 (Activation)   (None, 10)                0         \n",
            "=================================================================\n",
            "Total params: 8,290\n",
            "Trainable params: 8,290\n",
            "Non-trainable params: 0\n",
            "_________________________________________________________________\n"
          ],
          "name": "stdout"
        }
      ]
    },
    {
      "cell_type": "code",
      "metadata": {
        "colab": {
          "base_uri": "https://localhost:8080/"
        },
        "id": "WlpmywjMBqTT",
        "outputId": "b9135b8b-4979-40d7-bbee-445f2c58eb99"
      },
      "source": [
        "# Let's use the Adam optimizer for learning\n",
        "model_4.compile(loss='categorical_crossentropy', optimizer='adam', metrics=['accuracy'])\n",
        "\n",
        "# model.fit(X_train, Y_train,\n",
        " #         batch_size=128, epochs=5,\n",
        " #         verbose=1)\n",
        "\n",
        "start,myfit_4,end=datetime.now(),(model_4.fit(X_train, Y_train,batch_size=128, epochs=5,verbose=1)),datetime.now()\n",
        "print(\"Total time to fit model:\" , end-start)"
      ],
      "execution_count": 248,
      "outputs": [
        {
          "output_type": "stream",
          "text": [
            "Epoch 1/5\n",
            "263/263 [==============================] - 1s 3ms/step - loss: 1.9068 - accuracy: 0.3411\n",
            "Epoch 2/5\n",
            "263/263 [==============================] - 1s 3ms/step - loss: 0.7905 - accuracy: 0.7549\n",
            "Epoch 3/5\n",
            "263/263 [==============================] - 1s 3ms/step - loss: 0.4436 - accuracy: 0.8767\n",
            "Epoch 4/5\n",
            "263/263 [==============================] - 1s 3ms/step - loss: 0.3634 - accuracy: 0.8978\n",
            "Epoch 5/5\n",
            "263/263 [==============================] - 1s 3ms/step - loss: 0.3286 - accuracy: 0.9070\n",
            "Total time to fit model: 0:00:04.010724\n"
          ],
          "name": "stdout"
        }
      ]
    },
    {
      "cell_type": "code",
      "metadata": {
        "colab": {
          "base_uri": "https://localhost:8080/"
        },
        "id": "DkJv8DBjQOFg",
        "outputId": "8eb2f7fb-a385-41f3-cd56-762ff18fea1d"
      },
      "source": [
        "score = model_4.evaluate(X_test, Y_test)\n",
        "print('Test score:', score[0])\n",
        "print('Test accuracy, 5 layers of 10 nodes per layer:', score[1])"
      ],
      "execution_count": 249,
      "outputs": [
        {
          "output_type": "stream",
          "text": [
            "263/263 [==============================] - 0s 1ms/step - loss: 0.3262 - accuracy: 0.9096\n",
            "Test score: 0.32620394229888916\n",
            "Test accuracy, 5 layers of 10 nodes per layer: 0.9096428751945496\n"
          ],
          "name": "stdout"
        }
      ]
    },
    {
      "cell_type": "code",
      "metadata": {
        "colab": {
          "base_uri": "https://localhost:8080/"
        },
        "id": "Mq10nV-1QOmn",
        "outputId": "a891e2fe-136d-4910-b0ce-99fca4c3d3da"
      },
      "source": [
        "# create 5th model\n",
        "\n",
        "# The Sequential model is a linear stack of layers and is very common.\n",
        "\n",
        "model_5 = Sequential()\n",
        "\n",
        "# 1st layer\n",
        "model_5.add(Dense(10, input_shape=(784,)))\n",
        "model_5.add(Activation('relu'))\n",
        "\n",
        "# 2nd hidden layer\n",
        "model_5.add(Dense(10))\n",
        "model_5.add(Activation('relu'))\n",
        "\n",
        "model_5.add(Activation('softmax'))\n",
        "\n",
        "# Summarize the built model\n",
        "\n",
        "model_5.summary()"
      ],
      "execution_count": 250,
      "outputs": [
        {
          "output_type": "stream",
          "text": [
            "Model: \"sequential_16\"\n",
            "_________________________________________________________________\n",
            "Layer (type)                 Output Shape              Param #   \n",
            "=================================================================\n",
            "dense_57 (Dense)             (None, 10)                7850      \n",
            "_________________________________________________________________\n",
            "activation_70 (Activation)   (None, 10)                0         \n",
            "_________________________________________________________________\n",
            "dense_58 (Dense)             (None, 10)                110       \n",
            "_________________________________________________________________\n",
            "activation_71 (Activation)   (None, 10)                0         \n",
            "_________________________________________________________________\n",
            "activation_72 (Activation)   (None, 10)                0         \n",
            "=================================================================\n",
            "Total params: 7,960\n",
            "Trainable params: 7,960\n",
            "Non-trainable params: 0\n",
            "_________________________________________________________________\n"
          ],
          "name": "stdout"
        }
      ]
    },
    {
      "cell_type": "code",
      "metadata": {
        "colab": {
          "base_uri": "https://localhost:8080/"
        },
        "id": "oixWjGucQOuc",
        "outputId": "36d1c645-4d13-4ca6-e282-c71856d25973"
      },
      "source": [
        "# Let's use the Adam optimizer for learning\n",
        "model_5.compile(loss='categorical_crossentropy', optimizer='adam', metrics=['accuracy'])\n",
        "\n",
        "# model.fit(X_train, Y_train,\n",
        " #         batch_size=128, epochs=5,\n",
        " #         verbose=1)\n",
        "\n",
        "start,myfit_5,end=datetime.now(),(model_5.fit(X_train, Y_train,batch_size=128, epochs=5,verbose=1)),datetime.now()\n",
        "print(\"Total time to fit model:\" , end-start)"
      ],
      "execution_count": 251,
      "outputs": [
        {
          "output_type": "stream",
          "text": [
            "Epoch 1/5\n",
            "263/263 [==============================] - 1s 2ms/step - loss: 1.6384 - accuracy: 0.4697\n",
            "Epoch 2/5\n",
            "263/263 [==============================] - 1s 2ms/step - loss: 0.6628 - accuracy: 0.7958\n",
            "Epoch 3/5\n",
            "263/263 [==============================] - 1s 2ms/step - loss: 0.5600 - accuracy: 0.8169\n",
            "Epoch 4/5\n",
            "263/263 [==============================] - 1s 2ms/step - loss: 0.5158 - accuracy: 0.8265\n",
            "Epoch 5/5\n",
            "263/263 [==============================] - 1s 2ms/step - loss: 0.4949 - accuracy: 0.8308\n",
            "Total time to fit model: 0:00:03.457908\n"
          ],
          "name": "stdout"
        }
      ]
    },
    {
      "cell_type": "code",
      "metadata": {
        "colab": {
          "base_uri": "https://localhost:8080/"
        },
        "id": "94KL0_zcQO2y",
        "outputId": "6e129f6f-5b0b-4618-998e-54633d05a16a"
      },
      "source": [
        "score = model_5.evaluate(X_test, Y_test)\n",
        "print('Test score:', score[0])\n",
        "print('Test accuracy, 2 layers of 10 nodes per layer:', score[1])"
      ],
      "execution_count": 252,
      "outputs": [
        {
          "output_type": "stream",
          "text": [
            "263/263 [==============================] - 0s 1ms/step - loss: 0.5097 - accuracy: 0.8230\n",
            "Test score: 0.5097153186798096\n",
            "Test accuracy, 2 layers of 10 nodes per layer: 0.8229761719703674\n"
          ],
          "name": "stdout"
        }
      ]
    },
    {
      "cell_type": "code",
      "metadata": {
        "colab": {
          "base_uri": "https://localhost:8080/"
        },
        "id": "5geM8SgFQO33",
        "outputId": "c19a3c46-1efb-45bb-df5c-bf43bfcc0c39"
      },
      "source": [
        "# create 6th model\n",
        "\n",
        "# The Sequential model is a linear stack of layers and is very common.\n",
        "\n",
        "model_6 = Sequential()\n",
        "\n",
        "# 1st layer\n",
        "model_6.add(Dense(10, input_shape=(784,)))\n",
        "model_6.add(Activation('relu'))\n",
        "\n",
        "# 2nd hidden layer\n",
        "model_6.add(Dense(10))\n",
        "model_6.add(Activation('relu'))\n",
        "\n",
        "# 3rd hidden layer\n",
        "model_6.add(Dense(10))\n",
        "model_6.add(Activation('relu'))\n",
        "\n",
        "# 4th hidden layer\n",
        "model_6.add(Dense(10))\n",
        "model_6.add(Activation('relu'))\n",
        "\n",
        "# 5th hidden layer\n",
        "model_6.add(Dense(10))\n",
        "model_6.add(Activation('relu'))\n",
        "\n",
        "model_6.add(Activation('softmax'))\n",
        "\n",
        "# Summarize the built model\n",
        "\n",
        "model_6.summary()"
      ],
      "execution_count": 253,
      "outputs": [
        {
          "output_type": "stream",
          "text": [
            "Model: \"sequential_17\"\n",
            "_________________________________________________________________\n",
            "Layer (type)                 Output Shape              Param #   \n",
            "=================================================================\n",
            "dense_59 (Dense)             (None, 10)                7850      \n",
            "_________________________________________________________________\n",
            "activation_73 (Activation)   (None, 10)                0         \n",
            "_________________________________________________________________\n",
            "dense_60 (Dense)             (None, 10)                110       \n",
            "_________________________________________________________________\n",
            "activation_74 (Activation)   (None, 10)                0         \n",
            "_________________________________________________________________\n",
            "dense_61 (Dense)             (None, 10)                110       \n",
            "_________________________________________________________________\n",
            "activation_75 (Activation)   (None, 10)                0         \n",
            "_________________________________________________________________\n",
            "dense_62 (Dense)             (None, 10)                110       \n",
            "_________________________________________________________________\n",
            "activation_76 (Activation)   (None, 10)                0         \n",
            "_________________________________________________________________\n",
            "dense_63 (Dense)             (None, 10)                110       \n",
            "_________________________________________________________________\n",
            "activation_77 (Activation)   (None, 10)                0         \n",
            "_________________________________________________________________\n",
            "activation_78 (Activation)   (None, 10)                0         \n",
            "=================================================================\n",
            "Total params: 8,290\n",
            "Trainable params: 8,290\n",
            "Non-trainable params: 0\n",
            "_________________________________________________________________\n"
          ],
          "name": "stdout"
        }
      ]
    },
    {
      "cell_type": "code",
      "metadata": {
        "colab": {
          "base_uri": "https://localhost:8080/"
        },
        "id": "uv2sifxlQO5J",
        "outputId": "522c82a2-0e93-46a7-e667-2783011fdd5f"
      },
      "source": [
        "# Let's use the Adam optimizer for learning\n",
        "model_6.compile(loss='categorical_crossentropy', optimizer='adam', metrics=['accuracy'])\n",
        "\n",
        "# model.fit(X_train, Y_train,\n",
        " #         batch_size=128, epochs=5,\n",
        " #         verbose=1)\n",
        "\n",
        "start,myfit_6,end=datetime.now(),(model_6.fit(X_train, Y_train,batch_size=128, epochs=5,verbose=1)),datetime.now()\n",
        "print(\"Total time to fit model:\" , end-start)"
      ],
      "execution_count": 254,
      "outputs": [
        {
          "output_type": "stream",
          "text": [
            "Epoch 1/5\n",
            "263/263 [==============================] - 1s 2ms/step - loss: 1.9535 - accuracy: 0.2877\n",
            "Epoch 2/5\n",
            "263/263 [==============================] - 1s 3ms/step - loss: 0.8596 - accuracy: 0.7374\n",
            "Epoch 3/5\n",
            "263/263 [==============================] - 1s 2ms/step - loss: 0.6111 - accuracy: 0.8049\n",
            "Epoch 4/5\n",
            "263/263 [==============================] - 1s 3ms/step - loss: 0.5376 - accuracy: 0.8241\n",
            "Epoch 5/5\n",
            "263/263 [==============================] - 1s 3ms/step - loss: 0.3192 - accuracy: 0.9117\n",
            "Total time to fit model: 0:00:03.994502\n"
          ],
          "name": "stdout"
        }
      ]
    },
    {
      "cell_type": "code",
      "metadata": {
        "colab": {
          "base_uri": "https://localhost:8080/"
        },
        "id": "z8k2tnkTQO6i",
        "outputId": "a408ae27-bd8e-405a-8e31-70e41218ef41"
      },
      "source": [
        "score = model_6.evaluate(X_test, Y_test)\n",
        "print('Test score:', score[0])\n",
        "print('Test accuracy, 5 layers of 10 nodes per layer:', score[1])"
      ],
      "execution_count": 255,
      "outputs": [
        {
          "output_type": "stream",
          "text": [
            "263/263 [==============================] - 0s 1ms/step - loss: 0.3194 - accuracy: 0.9108\n",
            "Test score: 0.31940126419067383\n",
            "Test accuracy, 5 layers of 10 nodes per layer: 0.9108333587646484\n"
          ],
          "name": "stdout"
        }
      ]
    },
    {
      "cell_type": "code",
      "metadata": {
        "colab": {
          "base_uri": "https://localhost:8080/"
        },
        "id": "2211PvfAQO7h",
        "outputId": "85008281-505d-4565-e1d5-793abedebf33"
      },
      "source": [
        "# create 7th model\n",
        "\n",
        "# The Sequential model is a linear stack of layers and is very common.\n",
        "\n",
        "model_7 = Sequential()\n",
        "\n",
        "# 1st layer\n",
        "model_7.add(Dense(20, input_shape=(784,)))\n",
        "model_5.add(Activation('relu'))\n",
        "\n",
        "# 2nd hidden layer\n",
        "model_7.add(Dense(10))\n",
        "model_7.add(Activation('relu'))\n",
        "\n",
        "model_7.add(Activation('softmax'))\n",
        "\n",
        "# Summarize the built model\n",
        "\n",
        "model_7.summary()"
      ],
      "execution_count": 256,
      "outputs": [
        {
          "output_type": "stream",
          "text": [
            "Model: \"sequential_18\"\n",
            "_________________________________________________________________\n",
            "Layer (type)                 Output Shape              Param #   \n",
            "=================================================================\n",
            "dense_64 (Dense)             (None, 20)                15700     \n",
            "_________________________________________________________________\n",
            "dense_65 (Dense)             (None, 10)                210       \n",
            "_________________________________________________________________\n",
            "activation_80 (Activation)   (None, 10)                0         \n",
            "_________________________________________________________________\n",
            "activation_81 (Activation)   (None, 10)                0         \n",
            "=================================================================\n",
            "Total params: 15,910\n",
            "Trainable params: 15,910\n",
            "Non-trainable params: 0\n",
            "_________________________________________________________________\n"
          ],
          "name": "stdout"
        }
      ]
    },
    {
      "cell_type": "code",
      "metadata": {
        "colab": {
          "base_uri": "https://localhost:8080/"
        },
        "id": "jr6gUCF0QO83",
        "outputId": "6686e2d0-cb94-43dd-c8a7-83827f7a330b"
      },
      "source": [
        "# Let's use the Adam optimizer for learning\n",
        "model_7.compile(loss='categorical_crossentropy', optimizer='adam', metrics=['accuracy'])\n",
        "\n",
        "# model.fit(X_train, Y_train,\n",
        " #         batch_size=128, epochs=5,\n",
        " #         verbose=1)\n",
        "\n",
        "start,myfit_7,end=datetime.now(),(model_7.fit(X_train, Y_train,batch_size=128, epochs=5,verbose=1)),datetime.now()\n",
        "print(\"Total time to fit model:\" , end-start)"
      ],
      "execution_count": 257,
      "outputs": [
        {
          "output_type": "stream",
          "text": [
            "Epoch 1/5\n",
            "263/263 [==============================] - 1s 2ms/step - loss: 1.1969 - accuracy: 0.6314\n",
            "Epoch 2/5\n",
            "263/263 [==============================] - 1s 2ms/step - loss: 0.3506 - accuracy: 0.9029\n",
            "Epoch 3/5\n",
            "263/263 [==============================] - 1s 2ms/step - loss: 0.3007 - accuracy: 0.9135\n",
            "Epoch 4/5\n",
            "263/263 [==============================] - 1s 2ms/step - loss: 0.2836 - accuracy: 0.9206\n",
            "Epoch 5/5\n",
            "263/263 [==============================] - 1s 2ms/step - loss: 0.2718 - accuracy: 0.9236\n",
            "Total time to fit model: 0:00:03.869488\n"
          ],
          "name": "stdout"
        }
      ]
    },
    {
      "cell_type": "code",
      "metadata": {
        "colab": {
          "base_uri": "https://localhost:8080/"
        },
        "id": "neOP7eDEQO-X",
        "outputId": "f7278ed5-2a7b-4fbd-dd92-ecb4fd9da36e"
      },
      "source": [
        "score = model_7.evaluate(X_test, Y_test)\n",
        "print('Test score:', score[0])\n",
        "print('Test accuracy, 1 layers 20 nodes and 1 layer of 10 nodes:', score[1])"
      ],
      "execution_count": 258,
      "outputs": [
        {
          "output_type": "stream",
          "text": [
            "263/263 [==============================] - 0s 1ms/step - loss: 0.2868 - accuracy: 0.9186\n",
            "Test score: 0.28679731488227844\n",
            "Test accuracy, 1 layers 20 nodes and 1 layer of 10 nodes: 0.918571412563324\n"
          ],
          "name": "stdout"
        }
      ]
    },
    {
      "cell_type": "code",
      "metadata": {
        "colab": {
          "base_uri": "https://localhost:8080/"
        },
        "id": "4RlRfrfxQPAR",
        "outputId": "78a9a625-68f3-4c0f-b2b5-9bc3e022ea58"
      },
      "source": [
        "# create 8th model\n",
        "\n",
        "# The Sequential model is a linear stack of layers and is very common.\n",
        "\n",
        "model_8 = Sequential()\n",
        "\n",
        "# 1st layer\n",
        "model_8.add(Dense(512, input_shape=(784,)))\n",
        "model_8.add(Activation('relu'))\n",
        "\n",
        "# 2nd hidden layer\n",
        "model_8.add(Dense(512))\n",
        "model_8.add(Activation('relu'))\n",
        "\n",
        "# 3rd hidden layer\n",
        "model_8.add(Dense(512))\n",
        "model_8.add(Activation('relu'))\n",
        "\n",
        "# 4th hidden layer\n",
        "model_8.add(Dense(512))\n",
        "model_8.add(Activation('relu'))\n",
        "\n",
        "# 5th hidden layer\n",
        "model_8.add(Dense(10))\n",
        "model_8.add(Activation('relu'))\n",
        "\n",
        "model_8.add(Activation('softmax'))\n",
        "\n",
        "# Summarize the built model\n",
        "\n",
        "model_8.summary()"
      ],
      "execution_count": 259,
      "outputs": [
        {
          "output_type": "stream",
          "text": [
            "Model: \"sequential_19\"\n",
            "_________________________________________________________________\n",
            "Layer (type)                 Output Shape              Param #   \n",
            "=================================================================\n",
            "dense_66 (Dense)             (None, 512)               401920    \n",
            "_________________________________________________________________\n",
            "activation_82 (Activation)   (None, 512)               0         \n",
            "_________________________________________________________________\n",
            "dense_67 (Dense)             (None, 512)               262656    \n",
            "_________________________________________________________________\n",
            "activation_83 (Activation)   (None, 512)               0         \n",
            "_________________________________________________________________\n",
            "dense_68 (Dense)             (None, 512)               262656    \n",
            "_________________________________________________________________\n",
            "activation_84 (Activation)   (None, 512)               0         \n",
            "_________________________________________________________________\n",
            "dense_69 (Dense)             (None, 512)               262656    \n",
            "_________________________________________________________________\n",
            "activation_85 (Activation)   (None, 512)               0         \n",
            "_________________________________________________________________\n",
            "dense_70 (Dense)             (None, 10)                5130      \n",
            "_________________________________________________________________\n",
            "activation_86 (Activation)   (None, 10)                0         \n",
            "_________________________________________________________________\n",
            "activation_87 (Activation)   (None, 10)                0         \n",
            "=================================================================\n",
            "Total params: 1,195,018\n",
            "Trainable params: 1,195,018\n",
            "Non-trainable params: 0\n",
            "_________________________________________________________________\n"
          ],
          "name": "stdout"
        }
      ]
    },
    {
      "cell_type": "code",
      "metadata": {
        "colab": {
          "base_uri": "https://localhost:8080/"
        },
        "id": "W3Bzj_sQQzI7",
        "outputId": "17a070e4-c3af-432e-df0c-9f4d1346f15c"
      },
      "source": [
        "# Let's use the Adam optimizer for learning\n",
        "model_8.compile(loss='categorical_crossentropy', optimizer='adam', metrics=['accuracy'])\n",
        "\n",
        "# model.fit(X_train, Y_train,\n",
        " #         batch_size=128, epochs=5,\n",
        " #         verbose=1)\n",
        "\n",
        "start,myfit_8,end=datetime.now(),(model_8.fit(X_train, Y_train,batch_size=128, epochs=5,verbose=1)),datetime.now()\n",
        "print(\"Total time to fit model:\" , end-start)"
      ],
      "execution_count": 260,
      "outputs": [
        {
          "output_type": "stream",
          "text": [
            "Epoch 1/5\n",
            "263/263 [==============================] - 5s 18ms/step - loss: 1.4587 - accuracy: 0.5115\n",
            "Epoch 2/5\n",
            "263/263 [==============================] - 5s 18ms/step - loss: 1.2127 - accuracy: 0.5878\n",
            "Epoch 3/5\n",
            "263/263 [==============================] - 5s 18ms/step - loss: 1.1750 - accuracy: 0.5993\n",
            "Epoch 4/5\n",
            "263/263 [==============================] - 5s 18ms/step - loss: 1.1677 - accuracy: 0.6016\n",
            "Epoch 5/5\n",
            "263/263 [==============================] - 5s 18ms/step - loss: 1.1580 - accuracy: 0.6017\n",
            "Total time to fit model: 0:00:24.341067\n"
          ],
          "name": "stdout"
        }
      ]
    },
    {
      "cell_type": "code",
      "metadata": {
        "colab": {
          "base_uri": "https://localhost:8080/"
        },
        "id": "U1KRFWZ9QzPC",
        "outputId": "094e6815-90fb-4167-d2ff-1e65350353cb"
      },
      "source": [
        "score = model_8.evaluate(X_test, Y_test)\n",
        "print('Test score:', score[0])\n",
        "print('Test accuracy, 4 layers of 512 nodes and 1 layer of 10 nodes:', score[1])"
      ],
      "execution_count": 261,
      "outputs": [
        {
          "output_type": "stream",
          "text": [
            "263/263 [==============================] - 1s 3ms/step - loss: 1.2081 - accuracy: 0.5874\n",
            "Test score: 1.2080984115600586\n",
            "Test accuracy, 4 layers of 512 nodes and 1 layer of 10 nodes: 0.5873809456825256\n"
          ],
          "name": "stdout"
        }
      ]
    },
    {
      "cell_type": "code",
      "metadata": {
        "colab": {
          "base_uri": "https://localhost:8080/"
        },
        "id": "m5AzT6YbQzPx",
        "outputId": "cbb77941-f156-41ce-faa4-6febedc6500d"
      },
      "source": [
        "# create 9th model\n",
        "\n",
        "# The Sequential model is a linear stack of layers and is very common.\n",
        "\n",
        "model_9 = Sequential()\n",
        "\n",
        "# 1st layer\n",
        "model_9.add(Dense(512, input_shape=(784,)))\n",
        "model_9.add(Activation('relu'))\n",
        "model_9.add(Dropout(0.2))\n",
        "\n",
        "# 2nd hidden layer\n",
        "model_9.add(Dense(512))\n",
        "model_9.add(Activation('relu'))\n",
        "model_9.add(Dropout(0.2))\n",
        "\n",
        "# 3rd hidden layer\n",
        "model_9.add(Dense(512))\n",
        "model_9.add(Activation('relu'))\n",
        "model_9.add(Dropout(0.2))\n",
        "\n",
        "# 4th hidden layer\n",
        "model_9.add(Dense(512))\n",
        "model_9.add(Activation('relu'))\n",
        "model_9.add(Dropout(0.2))\n",
        "\n",
        "# 5th hidden layer\n",
        "model_9.add(Dense(10))\n",
        "model_9.add(Activation('relu'))\n",
        "\n",
        "model_9.add(Activation('softmax'))\n",
        "\n",
        "# Summarize the built model\n",
        "\n",
        "model_9.summary()"
      ],
      "execution_count": 262,
      "outputs": [
        {
          "output_type": "stream",
          "text": [
            "Model: \"sequential_20\"\n",
            "_________________________________________________________________\n",
            "Layer (type)                 Output Shape              Param #   \n",
            "=================================================================\n",
            "dense_71 (Dense)             (None, 512)               401920    \n",
            "_________________________________________________________________\n",
            "activation_88 (Activation)   (None, 512)               0         \n",
            "_________________________________________________________________\n",
            "dropout_12 (Dropout)         (None, 512)               0         \n",
            "_________________________________________________________________\n",
            "dense_72 (Dense)             (None, 512)               262656    \n",
            "_________________________________________________________________\n",
            "activation_89 (Activation)   (None, 512)               0         \n",
            "_________________________________________________________________\n",
            "dropout_13 (Dropout)         (None, 512)               0         \n",
            "_________________________________________________________________\n",
            "dense_73 (Dense)             (None, 512)               262656    \n",
            "_________________________________________________________________\n",
            "activation_90 (Activation)   (None, 512)               0         \n",
            "_________________________________________________________________\n",
            "dropout_14 (Dropout)         (None, 512)               0         \n",
            "_________________________________________________________________\n",
            "dense_74 (Dense)             (None, 512)               262656    \n",
            "_________________________________________________________________\n",
            "activation_91 (Activation)   (None, 512)               0         \n",
            "_________________________________________________________________\n",
            "dropout_15 (Dropout)         (None, 512)               0         \n",
            "_________________________________________________________________\n",
            "dense_75 (Dense)             (None, 10)                5130      \n",
            "_________________________________________________________________\n",
            "activation_92 (Activation)   (None, 10)                0         \n",
            "_________________________________________________________________\n",
            "activation_93 (Activation)   (None, 10)                0         \n",
            "=================================================================\n",
            "Total params: 1,195,018\n",
            "Trainable params: 1,195,018\n",
            "Non-trainable params: 0\n",
            "_________________________________________________________________\n"
          ],
          "name": "stdout"
        }
      ]
    },
    {
      "cell_type": "code",
      "metadata": {
        "colab": {
          "base_uri": "https://localhost:8080/"
        },
        "id": "htMHy6X4QzRI",
        "outputId": "96d47c8a-8b2e-444f-c112-d107396a2136"
      },
      "source": [
        "# Let's use the Adam optimizer for learning\n",
        "model_9.compile(loss='categorical_crossentropy', optimizer='adam', metrics=['accuracy'])\n",
        "\n",
        "# model.fit(X_train, Y_train,\n",
        " #         batch_size=128, epochs=5,\n",
        " #         verbose=1)\n",
        "\n",
        "start,myfit_9,end=datetime.now(),(model_9.fit(X_train, Y_train,batch_size=128, epochs=5,verbose=1)),datetime.now()\n",
        "print(\"Total time to fit model:\" , end-start)"
      ],
      "execution_count": 263,
      "outputs": [
        {
          "output_type": "stream",
          "text": [
            "Epoch 1/5\n",
            "263/263 [==============================] - 6s 22ms/step - loss: 0.8699 - accuracy: 0.7449\n",
            "Epoch 2/5\n",
            "263/263 [==============================] - 6s 22ms/step - loss: 0.1512 - accuracy: 0.9554\n",
            "Epoch 3/5\n",
            "263/263 [==============================] - 6s 22ms/step - loss: 0.1079 - accuracy: 0.9668\n",
            "Epoch 4/5\n",
            "263/263 [==============================] - 6s 22ms/step - loss: 0.0837 - accuracy: 0.9750\n",
            "Epoch 5/5\n",
            "263/263 [==============================] - 6s 22ms/step - loss: 0.0646 - accuracy: 0.9790\n",
            "Total time to fit model: 0:00:29.498578\n"
          ],
          "name": "stdout"
        }
      ]
    },
    {
      "cell_type": "code",
      "metadata": {
        "colab": {
          "base_uri": "https://localhost:8080/"
        },
        "id": "JSpfkIIEQzSi",
        "outputId": "242581f6-6d94-4428-f07c-e4741172de4f"
      },
      "source": [
        "score = model_9.evaluate(X_test, Y_test)\n",
        "print('Test score:', score[0])\n",
        "print('Test accuracy, 4 layers of 512 nodes and 1 layer of 10 nodes, with dropout of 0.2:', score[1])"
      ],
      "execution_count": 264,
      "outputs": [
        {
          "output_type": "stream",
          "text": [
            "263/263 [==============================] - 1s 3ms/step - loss: 0.0892 - accuracy: 0.9746\n",
            "Test score: 0.08922681957483292\n",
            "Test accuracy, 4 layers of 512 nodes and 1 layer of 10 nodes, with dropout of 0.2: 0.9746428728103638\n"
          ],
          "name": "stdout"
        }
      ]
    },
    {
      "cell_type": "code",
      "metadata": {
        "colab": {
          "base_uri": "https://localhost:8080/"
        },
        "id": "cF1TmAcBQzTh",
        "outputId": "be4ec802-2d9f-4e8d-f0da-2856c27b0f46"
      },
      "source": [
        "# create 10th model\n",
        "\n",
        "# The Sequential model is a linear stack of layers and is very common.\n",
        "\n",
        "model_10 = Sequential()\n",
        "\n",
        "# 1st layer\n",
        "model_10.add(Dense(20, input_shape=(784,)))\n",
        "model_10.add(Activation('relu'))\n",
        "model_10.add(Dropout(0.2))\n",
        "\n",
        "# 2nd hidden layer\n",
        "model_10.add(Dense(20))\n",
        "model_10.add(Activation('relu'))\n",
        "model_10.add(Dropout(0.2))\n",
        "\n",
        "# 3rd hidden layer\n",
        "model_10.add(Dense(10))\n",
        "model_10.add(Activation('relu'))\n",
        "\n",
        "model_10.add(Activation('softmax'))\n",
        "\n",
        "# Summarize the built model\n",
        "\n",
        "model_10.summary()"
      ],
      "execution_count": 265,
      "outputs": [
        {
          "output_type": "stream",
          "text": [
            "Model: \"sequential_21\"\n",
            "_________________________________________________________________\n",
            "Layer (type)                 Output Shape              Param #   \n",
            "=================================================================\n",
            "dense_76 (Dense)             (None, 20)                15700     \n",
            "_________________________________________________________________\n",
            "activation_94 (Activation)   (None, 20)                0         \n",
            "_________________________________________________________________\n",
            "dropout_16 (Dropout)         (None, 20)                0         \n",
            "_________________________________________________________________\n",
            "dense_77 (Dense)             (None, 20)                420       \n",
            "_________________________________________________________________\n",
            "activation_95 (Activation)   (None, 20)                0         \n",
            "_________________________________________________________________\n",
            "dropout_17 (Dropout)         (None, 20)                0         \n",
            "_________________________________________________________________\n",
            "dense_78 (Dense)             (None, 10)                210       \n",
            "_________________________________________________________________\n",
            "activation_96 (Activation)   (None, 10)                0         \n",
            "_________________________________________________________________\n",
            "activation_97 (Activation)   (None, 10)                0         \n",
            "=================================================================\n",
            "Total params: 16,330\n",
            "Trainable params: 16,330\n",
            "Non-trainable params: 0\n",
            "_________________________________________________________________\n"
          ],
          "name": "stdout"
        }
      ]
    },
    {
      "cell_type": "code",
      "metadata": {
        "colab": {
          "base_uri": "https://localhost:8080/"
        },
        "id": "aBSOboAYQzU3",
        "outputId": "fb03cc70-9d54-4d2b-9471-38c8d5f48593"
      },
      "source": [
        "# Let's use the Adam optimizer for learning\n",
        "model_10.compile(loss='categorical_crossentropy', optimizer='adam', metrics=['accuracy'])\n",
        "\n",
        "# model.fit(X_train, Y_train,\n",
        " #         batch_size=128, epochs=5,\n",
        " #         verbose=1)\n",
        "\n",
        "start,myfit_10,end=datetime.now(),(model_10.fit(X_train, Y_train,batch_size=128, epochs=5,verbose=1)),datetime.now()\n",
        "print(\"Total time to fit model:\" , end-start)"
      ],
      "execution_count": 266,
      "outputs": [
        {
          "output_type": "stream",
          "text": [
            "Epoch 1/5\n",
            "263/263 [==============================] - 1s 3ms/step - loss: 1.6329 - accuracy: 0.4233\n",
            "Epoch 2/5\n",
            "263/263 [==============================] - 1s 3ms/step - loss: 0.7403 - accuracy: 0.7621\n",
            "Epoch 3/5\n",
            "263/263 [==============================] - 1s 3ms/step - loss: 0.5806 - accuracy: 0.8159\n",
            "Epoch 4/5\n",
            "263/263 [==============================] - 1s 3ms/step - loss: 0.5226 - accuracy: 0.8404\n",
            "Epoch 5/5\n",
            "263/263 [==============================] - 1s 3ms/step - loss: 0.4784 - accuracy: 0.8554\n",
            "Total time to fit model: 0:00:04.030203\n"
          ],
          "name": "stdout"
        }
      ]
    },
    {
      "cell_type": "code",
      "metadata": {
        "colab": {
          "base_uri": "https://localhost:8080/"
        },
        "id": "xg-og8KZQzWR",
        "outputId": "2311c1b6-62a4-4d21-c50b-12276c57b453"
      },
      "source": [
        "score = model_10.evaluate(X_test, Y_test)\n",
        "print('Test score:', score[0])\n",
        "print('Test accuracy, 2 layers of 20 nodes and 1 layer of 10 nodes, with dropout of 0.2:', score[1])"
      ],
      "execution_count": 267,
      "outputs": [
        {
          "output_type": "stream",
          "text": [
            "263/263 [==============================] - 0s 1ms/step - loss: 0.2700 - accuracy: 0.9213\n",
            "Test score: 0.27003175020217896\n",
            "Test accuracy, 2 layers of 20 nodes and 1 layer of 10 nodes, with dropout of 0.2: 0.9213095307350159\n"
          ],
          "name": "stdout"
        }
      ]
    },
    {
      "cell_type": "code",
      "metadata": {
        "id": "hoohoPYHQzZO"
      },
      "source": [
        "# predict results\n",
        "model_results = model.predict(test)\n",
        "# select the index with the maximum probability\n",
        "model_results = np.argmax(model_results,axis = 1)\n",
        "model_results = pd.Series(model_results,name=\"Label\")"
      ],
      "execution_count": 268,
      "outputs": []
    },
    {
      "cell_type": "code",
      "metadata": {
        "colab": {
          "base_uri": "https://localhost:8080/"
        },
        "id": "zdFKShDVXeU4",
        "outputId": "c8924970-693a-482f-9a66-7d4a159e1a1f"
      },
      "source": [
        "model_results.shape"
      ],
      "execution_count": 269,
      "outputs": [
        {
          "output_type": "execute_result",
          "data": {
            "text/plain": [
              "(28000,)"
            ]
          },
          "metadata": {
            "tags": []
          },
          "execution_count": 269
        }
      ]
    },
    {
      "cell_type": "code",
      "metadata": {
        "colab": {
          "base_uri": "https://localhost:8080/"
        },
        "id": "VJOZQxabXkhN",
        "outputId": "73303636-c750-4286-be14-57db52b678ef"
      },
      "source": [
        "model_results.head()"
      ],
      "execution_count": 270,
      "outputs": [
        {
          "output_type": "execute_result",
          "data": {
            "text/plain": [
              "0    2\n",
              "1    0\n",
              "2    9\n",
              "3    9\n",
              "4    3\n",
              "Name: Label, dtype: int64"
            ]
          },
          "metadata": {
            "tags": []
          },
          "execution_count": 270
        }
      ]
    },
    {
      "cell_type": "code",
      "metadata": {
        "colab": {
          "base_uri": "https://localhost:8080/"
        },
        "id": "FsrFe8xXXyK1",
        "outputId": "4bea4df6-0087-4c86-ef86-014f9692e4de"
      },
      "source": [
        "# # Create Dataframe\n",
        "# data = final_predictions\n",
        "df_1 = pd.DataFrame(model_results)\n",
        "df_1['ImageID'] = df_1.index + 1\n",
        "df_1.columns = ['Label', 'ImageID']\n",
        "submission = df_1[['ImageID', 'Label']]\n",
        "\n",
        "# # Output to csv\n",
        "submission.to_csv('model_mnist_predictions.csv',header=True, index=False)\n",
        "print('Final predictions for model 1 ')"
      ],
      "execution_count": 271,
      "outputs": [
        {
          "output_type": "stream",
          "text": [
            "Final predictions for model 1 \n"
          ],
          "name": "stdout"
        }
      ]
    },
    {
      "cell_type": "code",
      "metadata": {
        "id": "yOT-AOxtbkkZ"
      },
      "source": [
        "#submission = submission.drop(submission.columns[[0]], axis=1)\n",
        "#submission.columns = ['ImageID', 'Label']\n",
        "#submission = submission[['ImageID', 'Label']]"
      ],
      "execution_count": 272,
      "outputs": []
    },
    {
      "cell_type": "code",
      "metadata": {
        "colab": {
          "base_uri": "https://localhost:8080/"
        },
        "id": "HWyIk21fYsFY",
        "outputId": "cc2458d2-bb6b-499e-f4f4-74bdbde08808"
      },
      "source": [
        "from google.colab import drive\n",
        "\n",
        "drive.mount('/drive', force_remount=True)\n",
        "\n",
        "submission.to_csv('/drive/My Drive/MSDS 422/\"model_mnist_predictions7.csv', index=False)"
      ],
      "execution_count": 273,
      "outputs": [
        {
          "output_type": "stream",
          "text": [
            "Mounted at /drive\n"
          ],
          "name": "stdout"
        }
      ]
    },
    {
      "cell_type": "code",
      "metadata": {
        "id": "hzqlHcXpQzbw"
      },
      "source": [
        "# predict results\n",
        "model_2_results = model_2.predict(test)\n",
        "# select the index with the maximum probability\n",
        "model_2_results = np.argmax(model_2_results,axis = 1)\n",
        "model_2_results = pd.Series(model_2_results,name=\"Label\")"
      ],
      "execution_count": 274,
      "outputs": []
    },
    {
      "cell_type": "code",
      "metadata": {
        "colab": {
          "base_uri": "https://localhost:8080/"
        },
        "id": "-RPWuiQUQzeT",
        "outputId": "afcd0980-a501-45e4-c25d-456c93814154"
      },
      "source": [
        "# # Create Dataframe\n",
        "# data = final_predictions\n",
        "df_1 = pd.DataFrame(model_2_results)\n",
        "df_1['ImageID'] = df_1.index + 1\n",
        "df_1.columns = ['Label', 'ImageID']\n",
        "submission = df_1[['ImageID', 'Label']]\n",
        "\n",
        "# # Output to csv\n",
        "submission.to_csv('Roberts_NNmodel_2_mnist_predictions.csv',header=True, index=False)\n",
        "print('Final predictions for model 2 ')"
      ],
      "execution_count": 275,
      "outputs": [
        {
          "output_type": "stream",
          "text": [
            "Final predictions for model 2 \n"
          ],
          "name": "stdout"
        }
      ]
    },
    {
      "cell_type": "code",
      "metadata": {
        "colab": {
          "base_uri": "https://localhost:8080/"
        },
        "id": "GdROutR_Qzfe",
        "outputId": "440d0b36-285d-4454-d5b6-1433f81017bf"
      },
      "source": [
        "from google.colab import drive\n",
        "\n",
        "drive.mount('/drive', force_remount=True)\n",
        "\n",
        "submission.to_csv('/drive/My Drive/MSDS 422/\"Roberts_NNmodel_2_mnist_predictions.csv', index=False)"
      ],
      "execution_count": 276,
      "outputs": [
        {
          "output_type": "stream",
          "text": [
            "Mounted at /drive\n"
          ],
          "name": "stdout"
        }
      ]
    },
    {
      "cell_type": "code",
      "metadata": {
        "id": "9yFoQLpTQzhJ"
      },
      "source": [
        "# predict results\n",
        "model_3_results = model_3.predict(test)\n",
        "# select the index with the maximum probability\n",
        "model_3_results = np.argmax(model_3_results,axis = 1)\n",
        "model_3_results = pd.Series(model_3_results,name=\"Label\")"
      ],
      "execution_count": 277,
      "outputs": []
    },
    {
      "cell_type": "code",
      "metadata": {
        "colab": {
          "base_uri": "https://localhost:8080/"
        },
        "id": "KRcb0JXPQziB",
        "outputId": "866ad2ac-1089-4cb9-a8e3-3a1acd89df22"
      },
      "source": [
        "# # Create Dataframe\n",
        "# data = final_predictions\n",
        "df_1 = pd.DataFrame(model_3_results)\n",
        "df_1['ImageID'] = df_1.index + 1\n",
        "df_1.columns = ['Label', 'ImageID']\n",
        "submission = df_1[['ImageID', 'Label']]\n",
        "\n",
        "# # Output to csv\n",
        "submission.to_csv('Roberts_NNmodel_3_mnist_predictions.csv',header=True, index=False)\n",
        "print('Final predictions for model 3 ')"
      ],
      "execution_count": 278,
      "outputs": [
        {
          "output_type": "stream",
          "text": [
            "Final predictions for model 3 \n"
          ],
          "name": "stdout"
        }
      ]
    },
    {
      "cell_type": "code",
      "metadata": {
        "colab": {
          "base_uri": "https://localhost:8080/"
        },
        "id": "-GGjwXTAQPBG",
        "outputId": "c02b9eae-14c2-4e34-f3fe-82296a2a3dd6"
      },
      "source": [
        "from google.colab import drive\n",
        "\n",
        "drive.mount('/drive', force_remount=True)\n",
        "\n",
        "submission.to_csv('/drive/My Drive/MSDS 422/\"Roberts_NNmodel_3_mnist_predictions.csv', index=False)"
      ],
      "execution_count": 279,
      "outputs": [
        {
          "output_type": "stream",
          "text": [
            "Mounted at /drive\n"
          ],
          "name": "stdout"
        }
      ]
    },
    {
      "cell_type": "code",
      "metadata": {
        "id": "WTf-QCC6QPCa"
      },
      "source": [
        "# predict results\n",
        "model_4_results = model_4.predict(test)\n",
        "# select the index with the maximum probability\n",
        "model_4_results = np.argmax(model_4_results,axis = 1)\n",
        "model_4_results = pd.Series(model_4_results,name=\"Label\")"
      ],
      "execution_count": 280,
      "outputs": []
    },
    {
      "cell_type": "code",
      "metadata": {
        "colab": {
          "base_uri": "https://localhost:8080/"
        },
        "id": "c8ginB6fkhPP",
        "outputId": "3f4cefc9-f033-46a1-fc08-306781c33021"
      },
      "source": [
        "# # Create Dataframe\n",
        "# data = final_predictions\n",
        "df_1 = pd.DataFrame(model_4_results)\n",
        "df_1['ImageID'] = df_1.index + 1\n",
        "df_1.columns = ['Label', 'ImageID']\n",
        "submission = df_1[['ImageID', 'Label']]\n",
        "\n",
        "# # Output to csv\n",
        "submission.to_csv('Roberts_NNmodel_4_mnist_predictions.csv',header=True, index=False)\n",
        "print('Final predictions for model 4 ')"
      ],
      "execution_count": 281,
      "outputs": [
        {
          "output_type": "stream",
          "text": [
            "Final predictions for model 4 \n"
          ],
          "name": "stdout"
        }
      ]
    },
    {
      "cell_type": "code",
      "metadata": {
        "colab": {
          "base_uri": "https://localhost:8080/"
        },
        "id": "qArPh4LekhW0",
        "outputId": "fa62942b-9e41-465d-a7ce-9a35fe881d48"
      },
      "source": [
        "from google.colab import drive\n",
        "\n",
        "drive.mount('/drive', force_remount=True)\n",
        "\n",
        "submission.to_csv('/drive/My Drive/MSDS 422/\"Roberts_NNmodel_4_mnist_predictions.csv', index=False)"
      ],
      "execution_count": 282,
      "outputs": [
        {
          "output_type": "stream",
          "text": [
            "Mounted at /drive\n"
          ],
          "name": "stdout"
        }
      ]
    },
    {
      "cell_type": "code",
      "metadata": {
        "id": "s6WGtAJgkhYN"
      },
      "source": [
        "# predict results\n",
        "model_5_results = model_5.predict(test)\n",
        "# select the index with the maximum probability\n",
        "model_5_results = np.argmax(model_5_results,axis = 1)\n",
        "model_5_results = pd.Series(model_5_results,name=\"Label\")"
      ],
      "execution_count": 283,
      "outputs": []
    },
    {
      "cell_type": "code",
      "metadata": {
        "colab": {
          "base_uri": "https://localhost:8080/"
        },
        "id": "d76wzlgMkhZ3",
        "outputId": "ad23b76a-7237-4e72-e689-1e6801d1ca07"
      },
      "source": [
        "# # Create Dataframe\n",
        "# data = final_predictions\n",
        "df_1 = pd.DataFrame(model_5_results)\n",
        "df_1['ImageID'] = df_1.index + 1\n",
        "df_1.columns = ['Label', 'ImageID']\n",
        "submission = df_1[['ImageID', 'Label']]\n",
        "\n",
        "# # Output to csv\n",
        "submission.to_csv('Roberts_NNmodel_5_mnist_predictions.csv',header=True, index=False)\n",
        "print('Final predictions for model 5 ')"
      ],
      "execution_count": 284,
      "outputs": [
        {
          "output_type": "stream",
          "text": [
            "Final predictions for model 5 \n"
          ],
          "name": "stdout"
        }
      ]
    },
    {
      "cell_type": "code",
      "metadata": {
        "colab": {
          "base_uri": "https://localhost:8080/"
        },
        "id": "7aui7CZnkhay",
        "outputId": "6d4f5420-f4ea-4e9c-8fe4-1f3d5e532350"
      },
      "source": [
        "from google.colab import drive\n",
        "\n",
        "drive.mount('/drive', force_remount=True)\n",
        "\n",
        "submission.to_csv('/drive/My Drive/MSDS 422/\"Roberts_NNmodel_5_mnist_predictions.csv', index=False)"
      ],
      "execution_count": 285,
      "outputs": [
        {
          "output_type": "stream",
          "text": [
            "Mounted at /drive\n"
          ],
          "name": "stdout"
        }
      ]
    },
    {
      "cell_type": "code",
      "metadata": {
        "id": "LO72kHymkhca"
      },
      "source": [
        "# predict results\n",
        "model_6_results = model_6.predict(test)\n",
        "# select the index with the maximum probability\n",
        "model_6_results = np.argmax(model_6_results,axis = 1)\n",
        "model_6_results = pd.Series(model_6_results,name=\"Label\")"
      ],
      "execution_count": 286,
      "outputs": []
    },
    {
      "cell_type": "code",
      "metadata": {
        "colab": {
          "base_uri": "https://localhost:8080/"
        },
        "id": "6iGfkUtSkhdX",
        "outputId": "4a2a4621-ca1f-4f9d-fe9e-bb52d2f8152f"
      },
      "source": [
        "# # Create Dataframe\n",
        "# data = final_predictions\n",
        "df_1 = pd.DataFrame(model_6_results)\n",
        "df_1['ImageID'] = df_1.index + 1\n",
        "df_1.columns = ['Label', 'ImageID']\n",
        "submission = df_1[['ImageID', 'Label']]\n",
        "\n",
        "# # Output to csv\n",
        "submission.to_csv('Roberts_NNmodel_6_mnist_predictions.csv',header=True, index=False)\n",
        "print('Final predictions for model 6 ')"
      ],
      "execution_count": 287,
      "outputs": [
        {
          "output_type": "stream",
          "text": [
            "Final predictions for model 6 \n"
          ],
          "name": "stdout"
        }
      ]
    },
    {
      "cell_type": "code",
      "metadata": {
        "colab": {
          "base_uri": "https://localhost:8080/"
        },
        "id": "LUEEsONYkhfC",
        "outputId": "0053fff8-5a20-49b4-8d51-09d4229f2158"
      },
      "source": [
        "from google.colab import drive\n",
        "\n",
        "drive.mount('/drive', force_remount=True)\n",
        "\n",
        "submission.to_csv('/drive/My Drive/MSDS 422/\"Roberts_NNmodel_6_mnist_predictions.csv', index=False)"
      ],
      "execution_count": 288,
      "outputs": [
        {
          "output_type": "stream",
          "text": [
            "Mounted at /drive\n"
          ],
          "name": "stdout"
        }
      ]
    },
    {
      "cell_type": "code",
      "metadata": {
        "id": "UF0HE8bjkhgA"
      },
      "source": [
        "# predict results\n",
        "model_7_results = model_7.predict(test)\n",
        "# select the index with the maximum probability\n",
        "model_7_results = np.argmax(model_7_results,axis = 1)\n",
        "model_7_results = pd.Series(model_7_results,name=\"Label\")"
      ],
      "execution_count": 289,
      "outputs": []
    },
    {
      "cell_type": "code",
      "metadata": {
        "colab": {
          "base_uri": "https://localhost:8080/"
        },
        "id": "cmMtUhP7khhn",
        "outputId": "7b279e5b-771a-417b-8b48-d11dff403405"
      },
      "source": [
        "# # Create Dataframe\n",
        "# data = final_predictions\n",
        "df_1 = pd.DataFrame(model_7_results)\n",
        "df_1['ImageID'] = df_1.index + 1\n",
        "df_1.columns = ['Label', 'ImageID']\n",
        "submission = df_1[['ImageID', 'Label']]\n",
        "\n",
        "# # Output to csv\n",
        "submission.to_csv('Roberts_NNmodel_7_mnist_predictions.csv',header=True, index=False)\n",
        "print('Final predictions for model 7 ')"
      ],
      "execution_count": 290,
      "outputs": [
        {
          "output_type": "stream",
          "text": [
            "Final predictions for model 7 \n"
          ],
          "name": "stdout"
        }
      ]
    },
    {
      "cell_type": "code",
      "metadata": {
        "colab": {
          "base_uri": "https://localhost:8080/"
        },
        "id": "qNKTI5qKkhil",
        "outputId": "fa56c682-ff4f-4a05-e7c0-7362de6d08df"
      },
      "source": [
        "from google.colab import drive\n",
        "\n",
        "drive.mount('/drive', force_remount=True)\n",
        "\n",
        "submission.to_csv('/drive/My Drive/MSDS 422/\"Roberts_NNmodel_7_mnist_predictions.csv', index=False)"
      ],
      "execution_count": 291,
      "outputs": [
        {
          "output_type": "stream",
          "text": [
            "Mounted at /drive\n"
          ],
          "name": "stdout"
        }
      ]
    },
    {
      "cell_type": "code",
      "metadata": {
        "id": "iiH1-5JBkhkR"
      },
      "source": [
        "# predict results\n",
        "model_8_results = model_8.predict(test)\n",
        "# select the index with the maximum probability\n",
        "model_8_results = np.argmax(model_8_results,axis = 1)\n",
        "model_8_results = pd.Series(model_8_results,name=\"Label\")"
      ],
      "execution_count": 292,
      "outputs": []
    },
    {
      "cell_type": "code",
      "metadata": {
        "colab": {
          "base_uri": "https://localhost:8080/"
        },
        "id": "xJodC27ykhlO",
        "outputId": "f980dd8f-3300-41b9-a260-5ea8a54faddd"
      },
      "source": [
        "# # Create Dataframe\n",
        "# data = final_predictions\n",
        "df_1 = pd.DataFrame(model_8_results)\n",
        "df_1['ImageID'] = df_1.index + 1\n",
        "df_1.columns = ['Label', 'ImageID']\n",
        "submission = df_1[['ImageID', 'Label']]\n",
        "\n",
        "# # Output to csv\n",
        "submission.to_csv('Roberts_NNmodel_8_mnist_predictions.csv',header=True, index=False)\n",
        "print('Final predictions for model 8 ')"
      ],
      "execution_count": 293,
      "outputs": [
        {
          "output_type": "stream",
          "text": [
            "Final predictions for model 8 \n"
          ],
          "name": "stdout"
        }
      ]
    },
    {
      "cell_type": "code",
      "metadata": {
        "colab": {
          "base_uri": "https://localhost:8080/"
        },
        "id": "9-vfULYYkhm8",
        "outputId": "c72655c9-77d3-4147-fc37-450ec5d93ade"
      },
      "source": [
        "from google.colab import drive\n",
        "\n",
        "drive.mount('/drive', force_remount=True)\n",
        "\n",
        "submission.to_csv('/drive/My Drive/MSDS 422/\"Roberts_NNmodel_8_mnist_predictions.csv', index=False)"
      ],
      "execution_count": 294,
      "outputs": [
        {
          "output_type": "stream",
          "text": [
            "Mounted at /drive\n"
          ],
          "name": "stdout"
        }
      ]
    },
    {
      "cell_type": "code",
      "metadata": {
        "id": "LemsKJsgkhn2"
      },
      "source": [
        "# predict results\n",
        "model_9_results = model_9.predict(test)\n",
        "# select the index with the maximum probability\n",
        "model_9_results = np.argmax(model_9_results,axis = 1)\n",
        "model_9_results = pd.Series(model_9_results,name=\"Label\")"
      ],
      "execution_count": 295,
      "outputs": []
    },
    {
      "cell_type": "code",
      "metadata": {
        "colab": {
          "base_uri": "https://localhost:8080/"
        },
        "id": "XnqN481Gkhpo",
        "outputId": "bd721d94-3aed-4686-9fdf-18f0db30c276"
      },
      "source": [
        "# # Create Dataframe\n",
        "# data = final_predictions\n",
        "df_1 = pd.DataFrame(model_9_results)\n",
        "df_1['ImageID'] = df_1.index + 1\n",
        "df_1.columns = ['Label', 'ImageID']\n",
        "submission = df_1[['ImageID', 'Label']]\n",
        "\n",
        "# # Output to csv\n",
        "submission.to_csv('Roberts_NNmodel_9_mnist_predictions.csv',header=True, index=False)\n",
        "print('Final predictions for model 9 ')"
      ],
      "execution_count": 296,
      "outputs": [
        {
          "output_type": "stream",
          "text": [
            "Final predictions for model 9 \n"
          ],
          "name": "stdout"
        }
      ]
    },
    {
      "cell_type": "code",
      "metadata": {
        "colab": {
          "base_uri": "https://localhost:8080/"
        },
        "id": "bkeD3uu7khtM",
        "outputId": "1269c9c7-1dc3-481e-b224-74fd41852d63"
      },
      "source": [
        "from google.colab import drive\n",
        "\n",
        "drive.mount('/drive', force_remount=True)\n",
        "\n",
        "submission.to_csv('/drive/My Drive/MSDS 422/\"Roberts_NNmodel_9_mnist_predictions.csv', index=False)"
      ],
      "execution_count": 297,
      "outputs": [
        {
          "output_type": "stream",
          "text": [
            "Mounted at /drive\n"
          ],
          "name": "stdout"
        }
      ]
    },
    {
      "cell_type": "code",
      "metadata": {
        "id": "q-Ft8crskhuI"
      },
      "source": [
        "# predict results\n",
        "model_10_results = model_10.predict(test)\n",
        "# select the index with the maximum probability\n",
        "model_10_results = np.argmax(model_10_results,axis = 1)\n",
        "model_10_results = pd.Series(model_10_results,name=\"Label\")"
      ],
      "execution_count": 298,
      "outputs": []
    },
    {
      "cell_type": "code",
      "metadata": {
        "colab": {
          "base_uri": "https://localhost:8080/"
        },
        "id": "hl8RUEwIkhvD",
        "outputId": "c595b932-497e-4b14-bb86-005763ad9b0b"
      },
      "source": [
        "# # Create Dataframe\n",
        "# data = final_predictions\n",
        "df_1 = pd.DataFrame(model_10_results)\n",
        "df_1['ImageID'] = df_1.index + 1\n",
        "df_1.columns = ['Label', 'ImageID']\n",
        "submission = df_1[['ImageID', 'Label']]\n",
        "\n",
        "# # Output to csv\n",
        "submission.to_csv('Roberts_NNmodel_10_mnist_predictions.csv',header=True, index=False)\n",
        "print('Final predictions for model 10 ')"
      ],
      "execution_count": 299,
      "outputs": [
        {
          "output_type": "stream",
          "text": [
            "Final predictions for model 10 \n"
          ],
          "name": "stdout"
        }
      ]
    },
    {
      "cell_type": "code",
      "metadata": {
        "colab": {
          "base_uri": "https://localhost:8080/"
        },
        "id": "TI2LYQB2khv-",
        "outputId": "6578a1fc-532c-4fa6-f1af-3a8fd3616792"
      },
      "source": [
        "from google.colab import drive\n",
        "\n",
        "drive.mount('/drive', force_remount=True)\n",
        "\n",
        "submission.to_csv('/drive/My Drive/MSDS 422/\"Roberts_NNmodel_10_mnist_predictions.csv', index=False)"
      ],
      "execution_count": 300,
      "outputs": [
        {
          "output_type": "stream",
          "text": [
            "Mounted at /drive\n"
          ],
          "name": "stdout"
        }
      ]
    },
    {
      "cell_type": "code",
      "metadata": {
        "id": "pnlNjISJkh7o"
      },
      "source": [
        ""
      ],
      "execution_count": 204,
      "outputs": []
    }
  ]
}